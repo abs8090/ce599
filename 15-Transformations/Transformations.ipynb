{
 "cells": [
  {
   "cell_type": "markdown",
   "metadata": {},
   "source": [
    "## Transformations in Linear Regression\n",
    "\n",
    "Linear regression assumes that the dependent variables and its predictors are linearly related to each other.  This applies to the terms you specify in the model estimation.  However, you can apply transformations to those variables before estimating the models.  Transformations can be applied to:\n",
    "\n",
    "- Just the dependent variable\n",
    "- One or more predictor variables\n",
    "- Both predictor and dependent variables.\n",
    "\n",
    "Some common transformations are outlined here:\n",
    "\n",
    "https://www.google.com/url?sa=t&rct=j&q=&esrc=s&source=web&cd=&cad=rja&uact=8&ved=2ahUKEwibtIr4o8rvAhVYXM0KHTl9CXYQFjADegQIFRAD&url=https%3A%2F%2Fonlinepubs.trb.org%2Fonlinepubs%2Fnchrp%2Fcd-22%2Fmanual%2Fv2appendixb.pdf&usg=AOvVaw2MUNcGvy4XZhF9G6DBqFZq\n",
    "\n",
    "\n",
    "This lesson draws from David Dranove's excellent explanation of log transformations in regression.  I very much recommend that you read it: \n",
    "\n",
    "https://www.google.com/url?sa=t&rct=j&q=&esrc=s&source=web&cd=15&cad=rja&uact=8&ved=2ahUKEwjI0fu82NvoAhXRWM0KHUuVDCkQFjAOegQICBAB&url=https%3A%2F%2Fcanvas.northwestern.edu%2Ffiles%2F1812457%2Fdownload%3Fdownload_frd%3D1%26verifier%3DQBFTMd2yRHbWR6yC6mp2s0in7G9N3rRZiRFStMrA&usg=AOvVaw1JP3fLhZJA3IEhBHVFbuRq"
   ]
  },
  {
   "cell_type": "markdown",
   "metadata": {},
   "source": [
    "### Log transformations\n",
    "\n",
    "In this lesson, we will focus on log transformations, which are among the most common.  First, a refresher on the properties of logs and expoentials.  (It's been a while, so I tend to keep the cheat sheet around!)\n",
    "\n",
    "![image](log_exp_graph.jpg)\n",
    "\n",
    "![image](log_properties.gif)"
   ]
  },
  {
   "cell_type": "markdown",
   "metadata": {},
   "source": [
    "### What happens when we specify a log-transformed regression model?\n",
    "\n",
    "Let's work out the math..."
   ]
  },
  {
   "cell_type": "code",
   "execution_count": null,
   "metadata": {},
   "outputs": [],
   "source": []
  },
  {
   "cell_type": "markdown",
   "metadata": {},
   "source": [
    "### Why take logs?\n",
    "\n",
    "There are two main reasons to specify a log model instead of a linear model:\n",
    "\n",
    "1. It fits the data better\n",
    "2. You have a theoretical to think that the relationship should be multiplicative instead of additive"
   ]
  },
  {
   "cell_type": "markdown",
   "metadata": {},
   "source": [
    "### Let's try again with the wage data"
   ]
  },
  {
   "cell_type": "code",
   "execution_count": 1,
   "metadata": {},
   "outputs": [],
   "source": [
    "import pandas as pd\n",
    "import seaborn as sns\n",
    "import numpy as np\n",
    "import statsmodels.formula.api as smf\n",
    "\n",
    "# this allows plots to appear directly in the notebook\n",
    "%matplotlib inline"
   ]
  },
  {
   "cell_type": "code",
   "execution_count": 6,
   "metadata": {},
   "outputs": [
    {
     "data": {
      "text/html": [
       "<div>\n",
       "<style scoped>\n",
       "    .dataframe tbody tr th:only-of-type {\n",
       "        vertical-align: middle;\n",
       "    }\n",
       "\n",
       "    .dataframe tbody tr th {\n",
       "        vertical-align: top;\n",
       "    }\n",
       "\n",
       "    .dataframe thead th {\n",
       "        text-align: right;\n",
       "    }\n",
       "</style>\n",
       "<table border=\"1\" class=\"dataframe\">\n",
       "  <thead>\n",
       "    <tr style=\"text-align: right;\">\n",
       "      <th></th>\n",
       "      <th>sourceid</th>\n",
       "      <th>dstid</th>\n",
       "      <th>hod</th>\n",
       "      <th>mean_travel_time</th>\n",
       "      <th>standard_deviation_travel_time</th>\n",
       "      <th>geometric_mean_travel_time</th>\n",
       "      <th>geometric_standard_deviation_travel_time</th>\n",
       "    </tr>\n",
       "  </thead>\n",
       "  <tbody>\n",
       "    <tr>\n",
       "      <td>0</td>\n",
       "      <td>1013</td>\n",
       "      <td>581</td>\n",
       "      <td>8</td>\n",
       "      <td>1470.78</td>\n",
       "      <td>227.72</td>\n",
       "      <td>1455.53</td>\n",
       "      <td>1.15</td>\n",
       "    </tr>\n",
       "    <tr>\n",
       "      <td>1</td>\n",
       "      <td>1027</td>\n",
       "      <td>441</td>\n",
       "      <td>8</td>\n",
       "      <td>1730.07</td>\n",
       "      <td>568.07</td>\n",
       "      <td>1658.47</td>\n",
       "      <td>1.32</td>\n",
       "    </tr>\n",
       "    <tr>\n",
       "      <td>2</td>\n",
       "      <td>884</td>\n",
       "      <td>141</td>\n",
       "      <td>8</td>\n",
       "      <td>918.80</td>\n",
       "      <td>270.28</td>\n",
       "      <td>886.75</td>\n",
       "      <td>1.29</td>\n",
       "    </tr>\n",
       "    <tr>\n",
       "      <td>3</td>\n",
       "      <td>1066</td>\n",
       "      <td>445</td>\n",
       "      <td>17</td>\n",
       "      <td>1859.38</td>\n",
       "      <td>572.01</td>\n",
       "      <td>1782.76</td>\n",
       "      <td>1.33</td>\n",
       "    </tr>\n",
       "    <tr>\n",
       "      <td>4</td>\n",
       "      <td>1023</td>\n",
       "      <td>875</td>\n",
       "      <td>17</td>\n",
       "      <td>895.77</td>\n",
       "      <td>275.49</td>\n",
       "      <td>858.64</td>\n",
       "      <td>1.33</td>\n",
       "    </tr>\n",
       "  </tbody>\n",
       "</table>\n",
       "</div>"
      ],
      "text/plain": [
       "   sourceid  dstid  hod  mean_travel_time  standard_deviation_travel_time  \\\n",
       "0      1013    581    8           1470.78                          227.72   \n",
       "1      1027    441    8           1730.07                          568.07   \n",
       "2       884    141    8            918.80                          270.28   \n",
       "3      1066    445   17           1859.38                          572.01   \n",
       "4      1023    875   17            895.77                          275.49   \n",
       "\n",
       "   geometric_mean_travel_time  geometric_standard_deviation_travel_time  \n",
       "0                     1455.53                                      1.15  \n",
       "1                     1658.47                                      1.32  \n",
       "2                      886.75                                      1.29  \n",
       "3                     1782.76                                      1.33  \n",
       "4                      858.64                                      1.33  "
      ]
     },
     "execution_count": 6,
     "metadata": {},
     "output_type": "execute_result"
    }
   ],
   "source": [
    "# get the data\n",
    "# df = pd.read_csv('data/psam_p21.csv')\n",
    "df = pd.read_csv('data/boston.csv')\n",
    "df.head()"
   ]
  },
  {
   "cell_type": "code",
   "execution_count": 69,
   "metadata": {},
   "outputs": [
    {
     "data": {
      "text/plain": [
       "103185"
      ]
     },
     "execution_count": 69,
     "metadata": {},
     "output_type": "execute_result"
    }
   ],
   "source": [
    "# keep only the people who have worked within the last 12 months\n",
    "'''\n",
    "WKL 1\n",
    "When last worked\n",
    "b .N/A (less than 16 years old)\n",
    "1 .Within the past 12 months\n",
    "2 .1-5 years ago\n",
    "3 .Over 5 years ago or never worked\n",
    "'''\n",
    "\n",
    "df = df[df['WKL'] == 1]\n",
    "df = df[df['WAGP'] > 0 ]\n",
    "len(df)"
   ]
  },
  {
   "cell_type": "markdown",
   "metadata": {},
   "source": [
    "### Look at the data\n",
    "\n",
    "It is often a good idea to look at the data we want to model, and see how it relates to some variables we expect to be important.  We can do this using seaborn, which we learned about a few weeks ago.  "
   ]
  },
  {
   "cell_type": "code",
   "execution_count": 58,
   "metadata": {},
   "outputs": [
    {
     "data": {
      "text/plain": [
       "<matplotlib.axes._subplots.AxesSubplot at 0x1a26798910>"
      ]
     },
     "execution_count": 58,
     "metadata": {},
     "output_type": "execute_result"
    },
    {
     "data": {
      "image/png": "[encoded data removed]",
      "text/plain": [
       "<Figure size 432x288 with 1 Axes>"
      ]
     },
     "metadata": {
      "needs_background": "light"
     },
     "output_type": "display_data"
    }
   ],
   "source": [
    "'''\n",
    "WAGP 6\n",
    "Wages or salary income past 12 months\n",
    "bbbbbb .N/A (less than 15 years old)\n",
    "000000 .None\n",
    "000001..999999 .$1 to 999999 (Rounded and top-coded)\n",
    "'''\n",
    "\n",
    "# sns.distplot(df['WAGP'])\n",
    "sns.distplot(np.log(1 + df['WAGP']))"
   ]
  },
  {
   "cell_type": "code",
   "execution_count": 14,
   "metadata": {},
   "outputs": [
    {
     "name": "stderr",
     "output_type": "stream",
     "text": [
      "/Users/abdulaziz/opt/anaconda3/lib/python3.7/site-packages/seaborn/axisgrid.py:2262: UserWarning: The `size` paramter has been renamed to `height`; please update your code.\n",
      "  warnings.warn(msg, UserWarning)\n"
     ]
    },
    {
     "data": {
      "text/plain": [
       "<seaborn.axisgrid.JointGrid at 0x1a2f0a9710>"
      ]
     },
     "execution_count": 14,
     "metadata": {},
     "output_type": "execute_result"
    },
    {
     "data": {
      "image/png": "[encoded data removed]",
      "text/plain": [
       "<Figure size 576x576 with 3 Axes>"
      ]
     },
     "metadata": {
      "needs_background": "light"
     },
     "output_type": "display_data"
    }
   ],
   "source": [
    "# we may think that wages relate to hours worked, so let's look at that relationship\n",
    "'''\n",
    "WKHP 2\n",
    "Usual hours worked per week past 12 months\n",
    "bb .N/A (less than 16 years old/did not work during the past 12\n",
    ".months)\n",
    "01..98 .1 to 98 usual hours\n",
    "99 .99 or more usual hours\n",
    "'''\n",
    "\n",
    "sns.jointplot(x=\"WKHP\", y=\"WAGP\", data=df, size=8)"
   ]
  },
  {
   "cell_type": "markdown",
   "metadata": {},
   "source": [
    "### Estimating some models"
   ]
  },
  {
   "cell_type": "code",
   "execution_count": 16,
   "metadata": {},
   "outputs": [
    {
     "name": "stdout",
     "output_type": "stream",
     "text": [
      "                            OLS Regression Results                            \n",
      "==============================================================================\n",
      "Dep. Variable:                   WAGP   R-squared:                       0.147\n",
      "Model:                            OLS   Adj. R-squared:                  0.147\n",
      "Method:                 Least Squares   F-statistic:                 1.785e+04\n",
      "Date:                Sun, 28 Mar 2021   Prob (F-statistic):               0.00\n",
      "Time:                        00:58:04   Log-Likelihood:            -1.2536e+06\n",
      "No. Observations:              103185   AIC:                         2.507e+06\n",
      "Df Residuals:                  103183   BIC:                         2.507e+06\n",
      "Df Model:                           1                                         \n",
      "Covariance Type:            nonrobust                                         \n",
      "==============================================================================\n",
      "                 coef    std err          t      P>|t|      [0.025      0.975]\n",
      "------------------------------------------------------------------------------\n",
      "Intercept  -1.685e+04    458.540    -36.743      0.000   -1.77e+04   -1.59e+04\n",
      "WKHP        1514.0569     11.332    133.612      0.000    1491.847    1536.267\n",
      "==============================================================================\n",
      "Omnibus:                    93955.750   Durbin-Watson:                   1.877\n",
      "Prob(Omnibus):                  0.000   Jarque-Bera (JB):          3574134.493\n",
      "Skew:                           4.433   Prob(JB):                         0.00\n",
      "Kurtosis:                      30.436   Cond. No.                         130.\n",
      "==============================================================================\n",
      "\n",
      "Warnings:\n",
      "[1] Standard Errors assume that the covariance matrix of the errors is correctly specified.\n"
     ]
    }
   ],
   "source": [
    "# linear model\n",
    "mod = smf.ols(formula='WAGP ~ WKHP', data=df)\n",
    "res = mod.fit()\n",
    "print(res.summary())"
   ]
  },
  {
   "cell_type": "code",
   "execution_count": 17,
   "metadata": {},
   "outputs": [
    {
     "name": "stdout",
     "output_type": "stream",
     "text": [
      "                            OLS Regression Results                            \n",
      "==============================================================================\n",
      "Dep. Variable:           np.log(WAGP)   R-squared:                       0.401\n",
      "Model:                            OLS   Adj. R-squared:                  0.401\n",
      "Method:                 Least Squares   F-statistic:                 6.904e+04\n",
      "Date:                Sun, 28 Mar 2021   Prob (F-statistic):               0.00\n",
      "Time:                        00:58:20   Log-Likelihood:            -1.4579e+05\n",
      "No. Observations:              103185   AIC:                         2.916e+05\n",
      "Df Residuals:                  103183   BIC:                         2.916e+05\n",
      "Df Model:                           1                                         \n",
      "Covariance Type:            nonrobust                                         \n",
      "================================================================================\n",
      "                   coef    std err          t      P>|t|      [0.025      0.975]\n",
      "--------------------------------------------------------------------------------\n",
      "Intercept        3.8962      0.024    165.028      0.000       3.850       3.942\n",
      "np.log(WKHP)     1.7230      0.007    262.758      0.000       1.710       1.736\n",
      "==============================================================================\n",
      "Omnibus:                    16175.443   Durbin-Watson:                   1.837\n",
      "Prob(Omnibus):                  0.000   Jarque-Bera (JB):            62772.910\n",
      "Skew:                          -0.750   Prob(JB):                         0.00\n",
      "Kurtosis:                       6.514   Cond. No.                         29.6\n",
      "==============================================================================\n",
      "\n",
      "Warnings:\n",
      "[1] Standard Errors assume that the covariance matrix of the errors is correctly specified.\n"
     ]
    }
   ],
   "source": [
    "# log-log model\n",
    "mod = smf.ols(formula='np.log(WAGP) ~ np.log(WKHP)', data=df)\n",
    "res = mod.fit()\n",
    "print(res.summary())"
   ]
  },
  {
   "cell_type": "code",
   "execution_count": 23,
   "metadata": {},
   "outputs": [
    {
     "name": "stdout",
     "output_type": "stream",
     "text": [
      "                            OLS Regression Results                            \n",
      "==============================================================================\n",
      "Dep. Variable:                   WAGP   R-squared:                       0.147\n",
      "Model:                            OLS   Adj. R-squared:                  0.147\n",
      "Method:                 Least Squares   F-statistic:                 1.785e+04\n",
      "Date:                Sun, 28 Mar 2021   Prob (F-statistic):               0.00\n",
      "Time:                        16:44:31   Log-Likelihood:            -1.2536e+06\n",
      "No. Observations:              103185   AIC:                         2.507e+06\n",
      "Df Residuals:                  103183   BIC:                         2.507e+06\n",
      "Df Model:                           1                                         \n",
      "Covariance Type:            nonrobust                                         \n",
      "==============================================================================\n",
      "                 coef    std err          t      P>|t|      [0.025      0.975]\n",
      "------------------------------------------------------------------------------\n",
      "Intercept  -1.685e+04    458.540    -36.743      0.000   -1.77e+04   -1.59e+04\n",
      "WKHP        1514.0569     11.332    133.612      0.000    1491.847    1536.267\n",
      "==============================================================================\n",
      "Omnibus:                    93955.750   Durbin-Watson:                   1.877\n",
      "Prob(Omnibus):                  0.000   Jarque-Bera (JB):          3574134.493\n",
      "Skew:                           4.433   Prob(JB):                         0.00\n",
      "Kurtosis:                      30.436   Cond. No.                         130.\n",
      "==============================================================================\n",
      "\n",
      "Warnings:\n",
      "[1] Standard Errors assume that the covariance matrix of the errors is correctly specified.\n"
     ]
    }
   ],
   "source": [
    "# log-linear model\n",
    "mod = smf.ols(formula='np.log(1+WAGP) ~ WKHP', data=df)\n",
    "res = mod.fit()\n",
    "print(res.summary())"
   ]
  },
  {
   "cell_type": "code",
   "execution_count": null,
   "metadata": {},
   "outputs": [],
   "source": [
    "# What makes sense here?"
   ]
  },
  {
   "cell_type": "code",
   "execution_count": null,
   "metadata": {},
   "outputs": [],
   "source": []
  },
  {
   "cell_type": "markdown",
   "metadata": {},
   "source": [
    "### Categorical variables\n",
    "\n",
    "We may also want to include categorical variables.  We can include them by calculating a 'dummy' variable, which is 1 if the value is in a category, and zero otherwise.  "
   ]
  },
  {
   "cell_type": "code",
   "execution_count": 19,
   "metadata": {},
   "outputs": [],
   "source": [
    "'''\n",
    "SCHL 2\n",
    "Educational attainment\n",
    "bb .N/A (less than 3 years old)\n",
    "01 .No schooling completed\n",
    "02 .Nursery school, preschool 03 .Kindergarten\n",
    "04 .Grade 1\n",
    "05 .Grade 2\n",
    "06 .Grade 3\n",
    "07 .Grade 4\n",
    "08 .Grade 5\n",
    "09 .Grade 6\n",
    "10 .Grade 7\n",
    "11 .Grade 8\n",
    "12 .Grade 9\n",
    "13 .Grade 10\n",
    "14 .Grade 11 15 .12th grade - no diploma\n",
    "16 .Regular high school diploma\n",
    "17 .GED or alternative credential\n",
    "18 .Some college, but less than 1 year\n",
    "19 .1 or more years of college credit, no degree\n",
    "20 .Associate's degree\n",
    "21 .Bachelor's degree\n",
    "22 .Master's degree\n",
    "23 .Professional degree beyond a bachelor's degree\n",
    "24 .Doctorate degree\n",
    "'''\n",
    "\n",
    "# Is someone a college grad\n",
    "df['college_grad'] = df['SCHL'].apply(lambda x : x>=20)"
   ]
  },
  {
   "cell_type": "code",
   "execution_count": 20,
   "metadata": {},
   "outputs": [
    {
     "name": "stdout",
     "output_type": "stream",
     "text": [
      "                            OLS Regression Results                            \n",
      "==============================================================================\n",
      "Dep. Variable:       np.log(1 + WAGP)   R-squared:                       0.469\n",
      "Model:                            OLS   Adj. R-squared:                  0.469\n",
      "Method:                 Least Squares   F-statistic:                 4.549e+04\n",
      "Date:                Sun, 28 Mar 2021   Prob (F-statistic):               0.00\n",
      "Time:                        00:59:12   Log-Likelihood:            -1.3957e+05\n",
      "No. Observations:              103185   AIC:                         2.791e+05\n",
      "Df Residuals:                  103182   BIC:                         2.792e+05\n",
      "Df Model:                           2                                         \n",
      "Covariance Type:            nonrobust                                         \n",
      "========================================================================================\n",
      "                           coef    std err          t      P>|t|      [0.025      0.975]\n",
      "----------------------------------------------------------------------------------------\n",
      "Intercept                3.3776      0.024    140.894      0.000       3.331       3.425\n",
      "college_grad[T.True]     0.6478      0.006    107.587      0.000       0.636       0.660\n",
      "np.log(1 + WKHP)         1.7820      0.007    268.122      0.000       1.769       1.795\n",
      "==============================================================================\n",
      "Omnibus:                    18882.996   Durbin-Watson:                   1.896\n",
      "Prob(Omnibus):                  0.000   Jarque-Bera (JB):            71767.893\n",
      "Skew:                          -0.884   Prob(JB):                         0.00\n",
      "Kurtosis:                       6.683   Cond. No.                         32.3\n",
      "==============================================================================\n",
      "\n",
      "Warnings:\n",
      "[1] Standard Errors assume that the covariance matrix of the errors is correctly specified.\n"
     ]
    }
   ],
   "source": [
    "# note that I can wrap long strings with a \\ character\n",
    "mod = smf.ols(formula=\"np.log(1+WAGP) \\\n",
    "                       ~ np.log(1+WKHP) \\\n",
    "                       + college_grad\", \n",
    "              data=df)\n",
    "res = mod.fit()\n",
    "print(res.summary())"
   ]
  },
  {
   "cell_type": "code",
   "execution_count": null,
   "metadata": {},
   "outputs": [],
   "source": []
  },
  {
   "cell_type": "code",
   "execution_count": null,
   "metadata": {},
   "outputs": [],
   "source": [
    "# What would you recommend for age?  "
   ]
  },
  {
   "cell_type": "code",
   "execution_count": 81,
   "metadata": {},
   "outputs": [
    {
     "data": {
      "text/plain": [
       "<matplotlib.axes._subplots.AxesSubplot at 0x1a29a9cd10>"
      ]
     },
     "execution_count": 81,
     "metadata": {},
     "output_type": "execute_result"
    },
    {
     "data": {
      "image/png": "[encoded data removed]",
      "text/plain": [
       "<Figure size 432x288 with 1 Axes>"
      ]
     },
     "metadata": {
      "needs_background": "light"
     },
     "output_type": "display_data"
    }
   ],
   "source": [
    "df = df[(df['WKHP'] <= 60) & (df['WKHP'] >= 40)]\n",
    "# sns.distplot(df['WAGP'])\n",
    "sns.distplot(df['WKHP'])\n",
    "# sns.distplot(np.log(1+df['WKHP']))"
   ]
  },
  {
   "cell_type": "markdown",
   "metadata": {},
   "source": [
    "## Homework\n",
    "\n",
    "1. Read and understand:\n",
    "\n",
    "https://www.google.com/url?sa=t&rct=j&q=&esrc=s&source=web&cd=15&cad=rja&uact=8&ved=2ahUKEwjI0fu82NvoAhXRWM0KHUuVDCkQFjAOegQICBAB&url=https%3A%2F%2Fcanvas.northwestern.edu%2Ffiles%2F1812457%2Fdownload%3Fdownload_frd%3D1%26verifier%3DQBFTMd2yRHbWR6yC6mp2s0in7G9N3rRZiRFStMrA&usg=AOvVaw1JP3fLhZJA3IEhBHVFbuRq\n",
    "\n",
    "2. Revisit our previous homework modeling wages.  Specify your best log-log and log-linear models.  What would you recommend in this situation?  "
   ]
  },
  {
   "cell_type": "code",
   "execution_count": 87,
   "metadata": {},
   "outputs": [
    {
     "name": "stdout",
     "output_type": "stream",
     "text": [
      "                            OLS Regression Results                            \n",
      "==============================================================================\n",
      "Dep. Variable:       np.log(1 + WAGP)   R-squared:                       0.154\n",
      "Model:                            OLS   Adj. R-squared:                  0.154\n",
      "Method:                 Least Squares   F-statistic:                     3083.\n",
      "Date:                Sun, 28 Mar 2021   Prob (F-statistic):               0.00\n",
      "Time:                        22:34:29   Log-Likelihood:                -82425.\n",
      "No. Observations:               67927   AIC:                         1.649e+05\n",
      "Df Residuals:                   67922   BIC:                         1.649e+05\n",
      "Df Model:                           4                                         \n",
      "Covariance Type:            nonrobust                                         \n",
      "============================================================================================\n",
      "                               coef    std err          t      P>|t|      [0.025      0.975]\n",
      "--------------------------------------------------------------------------------------------\n",
      "Intercept                    4.2144      0.099     42.570      0.000       4.020       4.408\n",
      "C(computer_science)[T.1]     0.3490      0.044      8.003      0.000       0.264       0.434\n",
      "np.log(1 + WKHP)             1.6000      0.026     61.235      0.000       1.549       1.651\n",
      "Information_Sciences         0.3869      0.108      3.584      0.000       0.175       0.599\n",
      "college_grad                 0.5526      0.006     86.828      0.000       0.540       0.565\n",
      "==============================================================================\n",
      "Omnibus:                    19828.212   Durbin-Watson:                   1.900\n",
      "Prob(Omnibus):                  0.000   Jarque-Bera (JB):           101308.461\n",
      "Skew:                          -1.323   Prob(JB):                         0.00\n",
      "Kurtosis:                       8.366   Cond. No.                         136.\n",
      "==============================================================================\n",
      "\n",
      "Warnings:\n",
      "[1] Standard Errors assume that the covariance matrix of the errors is correctly specified.\n"
     ]
    }
   ],
   "source": [
    "# FOD1P:\n",
    "# 2100 \tcomputer and information\n",
    "# 2101 \tcomputer programming and data processing\n",
    "# 2102\tComputer Science\n",
    "# 2105\tInformation Sciences\n",
    "# 2106\tComputer Administration Management And Security\n",
    "# 2107\tComputer Networking And Telecommunications\n",
    "\n",
    "df['college_grad'] = np.where(df['SCHL'] >= 20, 1, 0)\n",
    "df['college_grad']\n",
    "\n",
    "df['computer_science'] = np.where(df['FOD1P'] == 2102, 1, 0) \n",
    "df['computer_and_information']= np.where(df['FOD1P'] == 2100, 1, 0)\n",
    "df['computer_programming_and_data_processing'] =np.where(df['FOD1P'] == 2101, 1, 0)\n",
    "df['Information_Sciences']= np.where(df['FOD1P'] == 2105, 1, 0)\n",
    "df['Computer_Administration_Management_And_Security'] = np.where(df['FOD1P'] == 2106, 1, 0)\n",
    "df['computer_Networking_And_Telecommunications']= np.where(df['FOD1P'] == 2107, 1, 0)\n",
    "# WKHP\n",
    "# mod = smf.ols(formula='WAGP\\\n",
    "#                         ~ WKHP \\\n",
    "#                         + computer_science \\\n",
    "#                         + computer_and_information \\\n",
    "#                         + computer_programming_and_data_processing \\\n",
    "#                         + Information_Sciences \\\n",
    "#                         + Computer_Administration_Management_And_Security \\\n",
    "#                         + computer_Networking_And_Telecommunications \\\n",
    "#                         + college_grad', \n",
    "#               data=df)\n",
    "# res = mod.fit()\n",
    "# print(res.summary())\n",
    "mod = smf.ols(formula='np.log(1+WAGP) ~ np.log(1+WKHP) + C(computer_science) + Information_Sciences+ college_grad', data=df)\n",
    "res = mod.fit()\n",
    "print(res.summary())"
   ]
  },
  {
   "cell_type": "code",
   "execution_count": null,
   "metadata": {},
   "outputs": [],
   "source": []
  }
 ],
 "metadata": {
  "kernelspec": {
   "display_name": "Python 3",
   "language": "python",
   "name": "python3"
  },
  "language_info": {
   "codemirror_mode": {
    "name": "ipython",
    "version": 3
   },
   "file_extension": ".py",
   "mimetype": "text/x-python",
   "name": "python",
   "nbconvert_exporter": "python",
   "pygments_lexer": "ipython3",
   "version": "3.7.4"
  }
 },
 "nbformat": 4,
 "nbformat_minor": 4
}
