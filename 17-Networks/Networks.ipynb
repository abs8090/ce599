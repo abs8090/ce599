{
 "cells": [
  {
   "cell_type": "markdown",
   "metadata": {},
   "source": [
    "# Networks\n",
    "\n",
    "This lesson introduces the network data structure.  Aspects of this lesson are adapted from Andrew Brooks' tutorial on graph optimization.  \n",
    "\n",
    "https://www.datacamp.com/community/tutorials/networkx-python-graph-tutorial\n",
    "\n",
    "It also draws from theory material presented at PyCon 2015 by Celia La and Sarah Guido.  \n",
    "\n",
    "https://github.com/sarguido/networkx-tutorial\n",
    "\n",
    "You will need to install two packages:\n",
    "\n",
    "pip install networkx\n",
    "pip install imageio\n",
    "\n",
    "The networkx documentation is here: \n",
    "\n",
    "https://networkx.github.io/"
   ]
  },
  {
   "cell_type": "code",
   "execution_count": 1,
   "metadata": {},
   "outputs": [],
   "source": [
    "# imports\n",
    "import pandas as pd\n",
    "import networkx as nx\n",
    "import matplotlib.pyplot as plt\n",
    "\n",
    "%matplotlib inline"
   ]
  },
  {
   "cell_type": "markdown",
   "metadata": {
    "collapsed": true
   },
   "source": [
    "# Intro to NetworkX\n",
    "\n",
    "### Adding & editing graph nodes\n",
    "\n",
    "We'll first take a look at creating a graph, and adding/editing nodes:"
   ]
  },
  {
   "cell_type": "code",
   "execution_count": 2,
   "metadata": {},
   "outputs": [
    {
     "data": {
      "text/plain": [
       "NodeView((1, 2, 3, 'four', 5))"
      ]
     },
     "execution_count": 2,
     "metadata": {},
     "output_type": "execute_result"
    }
   ],
   "source": [
    "import networkx as nx\n",
    "\n",
    "'''use g = nx.Graph() to create a graph'''\n",
    "\n",
    "g = nx.Graph()\n",
    "\n",
    "'''Lesson: use .add_node(1) to add a single node'''\n",
    "g.add_node(1)\n",
    "\n",
    "'''Lesson: use .add_nodes_from([2, 3, 'four', 5])  to add in bulk'''\n",
    "g.add_nodes_from([2, 3, 'four', 5])\n",
    "\n",
    "g.nodes()  # run g.nodes() to view the graph"
   ]
  },
  {
   "cell_type": "code",
   "execution_count": 37,
   "metadata": {},
   "outputs": [
    {
     "data": {
      "text/plain": [
       "NodeView((1, 2, 3, 'four', 5))"
      ]
     },
     "execution_count": 37,
     "metadata": {},
     "output_type": "execute_result"
    }
   ],
   "source": [
    "'''Note that NetworkX won't complain if we re-add pre-existing nodes'''\n",
    "\n",
    "# TODO: try re-adding nodes to see what happens\n",
    "\n",
    "g.nodes()  # display nodes"
   ]
  },
  {
   "cell_type": "code",
   "execution_count": 38,
   "metadata": {},
   "outputs": [
    {
     "data": {
      "text/plain": [
       "NodeView((1, 2, 3, 'four', 5))"
      ]
     },
     "execution_count": 38,
     "metadata": {},
     "output_type": "execute_result"
    }
   ],
   "source": [
    "'''Lesson: remove syntax is similar to adding, eg:\n",
    "        .remove_node()\n",
    "        .remove_nodes_from()\n",
    "'''\n",
    "\n",
    "# TODO: try removing both 1) single nodes, 2) nodes in bulk\n",
    "\n",
    "\n",
    "g.add_node(2)\n",
    "g.nodes()  # display nodes"
   ]
  },
  {
   "cell_type": "markdown",
   "metadata": {},
   "source": [
    "### Adding & editing edges"
   ]
  },
  {
   "cell_type": "code",
   "execution_count": 39,
   "metadata": {},
   "outputs": [
    {
     "name": "stdout",
     "output_type": "stream",
     "text": [
      "edges: [('a', 'b')]\n",
      "nodes: ['a', 'b']\n"
     ]
    }
   ],
   "source": [
    "h = nx.Graph()  # let's create a 2nd graph to play with edges\n",
    "\n",
    "'''Lesson: to create an edge, just specify the 2 nodes that define it: \n",
    "        .add_edge('a','b')\n",
    "    Note that those nodes also get added (no need to make them beforehand!)\n",
    "'''\n",
    "\n",
    "h.add_edge('a', 'b')\n",
    "\n",
    "\n",
    "print('edges:', h.edges())  # see your new edge\n",
    "print('nodes:', h.nodes())  # verify that new nodes were also added"
   ]
  },
  {
   "cell_type": "markdown",
   "metadata": {},
   "source": [
    "### Visualizing graphs"
   ]
  },
  {
   "cell_type": "code",
   "execution_count": 40,
   "metadata": {
    "scrolled": true
   },
   "outputs": [
    {
     "data": {
      "image/png": "[encoded data removed]",
      "text/plain": [
       "<Figure size 432x288 with 1 Axes>"
      ]
     },
     "metadata": {},
     "output_type": "display_data"
    }
   ],
   "source": [
    "\n",
    "GREEN = \"#77DD77\"\n",
    "BLUE = \"#99CCFF\"\n",
    "\n",
    "nx.draw(g, node_color=GREEN, with_labels=True)\n",
    "nx.draw(h, node_color=BLUE, with_labels=True)\n",
    "\n"
   ]
  },
  {
   "cell_type": "markdown",
   "metadata": {},
   "source": [
    "#### How would you create the following graph?\n",
    "\n",
    "<img src=\"img/graph.png\" style=\"float:left\" width=\"200\" />"
   ]
  },
  {
   "cell_type": "code",
   "execution_count": 8,
   "metadata": {},
   "outputs": [
    {
     "data": {
      "image/png": "[encoded data removed]",
      "text/plain": [
       "<Figure size 432x288 with 1 Axes>"
      ]
     },
     "metadata": {},
     "output_type": "display_data"
    }
   ],
   "source": [
    "g = nx.Graph()\n",
    "\n",
    "g.add_edges_from([('A','B'),('B','D'),('C','D'),('E','D'),('F','D')])\n",
    "nx.draw(g)"
   ]
  },
  {
   "cell_type": "markdown",
   "metadata": {},
   "source": [
    "# Directed graphs"
   ]
  },
  {
   "cell_type": "code",
   "execution_count": 9,
   "metadata": {},
   "outputs": [
    {
     "name": "stdout",
     "output_type": "stream",
     "text": [
      "directed edges: [(1, 2), (2, 3)]\n"
     ]
    },
    {
     "name": "stderr",
     "output_type": "stream",
     "text": [
      "/Users/abdulaziz/opt/anaconda3/lib/python3.7/site-packages/networkx/drawing/nx_pylab.py:676: MatplotlibDeprecationWarning: \n",
      "The iterable function was deprecated in Matplotlib 3.1 and will be removed in 3.3. Use np.iterable instead.\n",
      "  if cb.iterable(node_size):  # many node sizes\n"
     ]
    },
    {
     "data": {
      "image/png": "[encoded data removed]",
      "text/plain": [
       "<Figure size 432x288 with 1 Axes>"
      ]
     },
     "metadata": {},
     "output_type": "display_data"
    }
   ],
   "source": [
    "'''Lesson: use nx.DiGraph() to create a new directed graph\n",
    "'''\n",
    "\n",
    "dg = nx.DiGraph()\n",
    "\n",
    "\n",
    "dg.add_edges_from([(1,2), (2,3)])\n",
    "\n",
    "print('directed edges:', dg.edges())\n",
    "nx.draw(dg, node_color=GREEN, with_labels=True)\n"
   ]
  },
  {
   "cell_type": "code",
   "execution_count": 10,
   "metadata": {},
   "outputs": [
    {
     "data": {
      "image/png": "[encoded data removed]",
      "text/plain": [
       "<Figure size 432x288 with 1 Axes>"
      ]
     },
     "metadata": {},
     "output_type": "display_data"
    }
   ],
   "source": [
    "'''We can make directed graphs from existing graphs, eg:\n",
    "        nx.DiGraph(g)\n",
    "'''\n",
    "\n",
    "dg = nx.DiGraph(g)\n",
    "\n",
    "\n",
    "nx.draw(dg, node_color=BLUE, with_labels=True)"
   ]
  },
  {
   "cell_type": "code",
   "execution_count": 11,
   "metadata": {},
   "outputs": [
    {
     "data": {
      "text/plain": [
       "OutEdgeView([('A', 'B'), ('B', 'A'), ('B', 'D'), ('D', 'B'), ('D', 'C'), ('D', 'E'), ('D', 'F'), ('C', 'D'), ('E', 'D'), ('F', 'D')])"
      ]
     },
     "execution_count": 11,
     "metadata": {},
     "output_type": "execute_result"
    }
   ],
   "source": [
    "''' Notice that nodes A and B have TWO directed edges:\n",
    "        A -> B\n",
    "        B -> A\n",
    "'''\n",
    "\n",
    "dg.edges()"
   ]
  },
  {
   "cell_type": "markdown",
   "metadata": {},
   "source": [
    "### Adding attributes to nodes and edges\n",
    "\n",
    "Sometimes you may want to attach attributes to either the nodes or edges:\n",
    "\n",
    "* Perhaps you want to save node properties that will be helpful with future analysis\n",
    "* Perhaps you want to attach visual descriptions, such a node size, edge width or graph color"
   ]
  },
  {
   "cell_type": "code",
   "execution_count": 14,
   "metadata": {},
   "outputs": [
    {
     "data": {
      "image/png": "[encoded data removed]",
      "text/plain": [
       "<Figure size 432x288 with 1 Axes>"
      ]
     },
     "metadata": {},
     "output_type": "display_data"
    }
   ],
   "source": [
    "cities = nx.Graph()\n",
    "\n",
    "cities.add_edge('San Diego', 'Los Angeles', attr_dict = { 'distance': 0.4})\n",
    "cities.add_edge('New York', 'Nashville', attr_dict = { 'distance': 5.6})\n",
    "cities.add_edge('Boston', 'D.C.', attr_dict = { 'distance': 0.8})\n",
    "\n",
    "nx.draw(cities)"
   ]
  },
  {
   "cell_type": "markdown",
   "metadata": {},
   "source": [
    "# Describing a network"
   ]
  },
  {
   "cell_type": "markdown",
   "metadata": {},
   "source": [
    "### Degree Distribution:\n",
    "\n",
    "\n",
    "\n",
    "<img src=\"img/graph.png\" style=\"float:left; padding-right:20px;\" width=\"200\" />\n",
    "\n",
    "- 1 node with 4 edges\n",
    "- 1 node with 2 edges\n",
    "- 4 nodes with 1 edge\n",
    "\n",
    "Distribution:\n",
    "\n",
    "    [(1:4), (1:2), (4:1)]\n"
   ]
  },
  {
   "cell_type": "code",
   "execution_count": 15,
   "metadata": {},
   "outputs": [
    {
     "name": "stdout",
     "output_type": "stream",
     "text": [
      "Degree Distribution: [('A', 1), ('B', 2), ('D', 4), ('C', 1), ('E', 1), ('F', 1)]\n"
     ]
    }
   ],
   "source": [
    "# Degree Distribution for all nodes\n",
    "print('Degree Distribution:', g.degree())"
   ]
  },
  {
   "cell_type": "code",
   "execution_count": 16,
   "metadata": {},
   "outputs": [
    {
     "name": "stdout",
     "output_type": "stream",
     "text": [
      "Avg shortest path from A to E is 3 hops:\n",
      "['A', 'B', 'D', 'E']\n"
     ]
    }
   ],
   "source": [
    "# Generate the graph above\n",
    "paths = nx.Graph()\n",
    "paths.add_edges_from([\n",
    "    ('A','B'), ('B','D'), ('B','C'), ('D','E'), ('D','C'),\n",
    "    ('C','1'), ('1','2'), ('1','3'), ('2','3'), \n",
    "    ('E','2'), ('E','4')])\n",
    "\n",
    "# Display average shortest path details\n",
    "print('Avg shortest path from A to E is', nx.shortest_path_length(paths, 'A','E'), 'hops:')\n",
    "print(nx.shortest_path(paths, 'A','E'))"
   ]
  },
  {
   "cell_type": "markdown",
   "metadata": {},
   "source": [
    "## Network Centrality (the higher result is better!)\n",
    "\n",
    "* **Degree: number of edges** for node X\n",
    "* **Betweenness: number of shortest paths** that pass through node X\n",
    "* **Closeness: average of the shortest paths** between X and all other nodes\n",
    "\n",
    "<img src=\"img/centrality1.png\" style=\"float:left;\" width=\"400\" />\n",
    "<img src=\"img/centrality2.png\" style=\"float:left;\" width=\"200\" />\n",
    "\n"
   ]
  },
  {
   "cell_type": "code",
   "execution_count": 21,
   "metadata": {},
   "outputs": [
    {
     "name": "stdout",
     "output_type": "stream",
     "text": [
      "Degree Centrality:\n",
      "[('A', 1), ('B', 2), ('D', 4), ('C', 1), ('E', 1), ('F', 1)]\n",
      "\n",
      "Degree Centrality, Normalized:\n",
      "{'A': 0.2, 'B': 0.4, 'D': 0.8, 'C': 0.2, 'E': 0.2, 'F': 0.2}\n"
     ]
    }
   ],
   "source": [
    "''' To calculate Degree Distribution for all nodes, use:\n",
    "    g.degree()  for non-normalized values,\n",
    "    nx.degree_centrality(g)   for normalized values\n",
    "'''\n",
    "\n",
    "# degree distrib., non-normalized\n",
    "print('Degree Centrality:')\n",
    "print(g.degree())\n",
    "\n",
    "# TODO degree distrib., normalized\n",
    "print('\\nDegree Centrality, Normalized:')\n",
    "print(nx.degree_centrality(g))\n"
   ]
  },
  {
   "cell_type": "code",
   "execution_count": 22,
   "metadata": {},
   "outputs": [
    {
     "name": "stdout",
     "output_type": "stream",
     "text": [
      "Betweenness Centrality:\n",
      "{'A': 0.0, 'B': 4.0, 'D': 9.0, 'C': 0.0, 'E': 0.0, 'F': 0.0}\n",
      "\n",
      "Betweenness Centrality, Normalized:\n",
      "{'A': 0.0, 'B': 0.4, 'D': 0.9, 'C': 0.0, 'E': 0.0, 'F': 0.0}\n"
     ]
    }
   ],
   "source": [
    "''' To calculate betweenness centrality, use:\n",
    "    nx.betweenness_centrality(g, normalized=True/False)   default is True\n",
    "'''\n",
    "\n",
    "# betweenness centrality, non-normalized\n",
    "print('Betweenness Centrality:')\n",
    "print(nx.betweenness_centrality(g, normalized=False))\n",
    "\n",
    "# betweenness centrality, normalized\n",
    "print('\\nBetweenness Centrality, Normalized:')\n",
    "print(nx.betweenness_centrality(g, normalized=True))\n"
   ]
  },
  {
   "cell_type": "code",
   "execution_count": 23,
   "metadata": {},
   "outputs": [
    {
     "name": "stdout",
     "output_type": "stream",
     "text": [
      "Closeness Centrality:\n",
      "{'A': 0.4166666666666667, 'B': 0.625, 'D': 0.8333333333333334, 'C': 0.5, 'E': 0.5, 'F': 0.5}\n"
     ]
    }
   ],
   "source": [
    "''' to calculate closeness centrality, use:\n",
    "    nx.closeness_centrality(g)\n",
    "'''\n",
    "\n",
    "# find closeness centrality\n",
    "print('Closeness Centrality:')\n",
    "print(nx.closeness_centrality(g))"
   ]
  },
  {
   "cell_type": "markdown",
   "metadata": {},
   "source": [
    "# Back to Airline Networks\n",
    "\n",
    "Previously we used open flights to examine airline routes around the world.  We found that it was a bit of a pain to store the data in tables, and merge different information.  We can model it as network instead.  I've cleaned the data up a bit, and selected out only the routes operated by Delta, making it a bit more managable.  \n"
   ]
  },
  {
   "cell_type": "code",
   "execution_count": 12,
   "metadata": {},
   "outputs": [
    {
     "data": {
      "text/html": [
       "<div>\n",
       "<style scoped>\n",
       "    .dataframe tbody tr th:only-of-type {\n",
       "        vertical-align: middle;\n",
       "    }\n",
       "\n",
       "    .dataframe tbody tr th {\n",
       "        vertical-align: top;\n",
       "    }\n",
       "\n",
       "    .dataframe thead th {\n",
       "        text-align: right;\n",
       "    }\n",
       "</style>\n",
       "<table border=\"1\" class=\"dataframe\">\n",
       "  <thead>\n",
       "    <tr style=\"text-align: right;\">\n",
       "      <th></th>\n",
       "      <th>Unnamed: 0</th>\n",
       "      <th>airline</th>\n",
       "      <th>airline_id</th>\n",
       "      <th>source</th>\n",
       "      <th>source_id</th>\n",
       "      <th>dest</th>\n",
       "      <th>dest_id</th>\n",
       "      <th>codeshare</th>\n",
       "      <th>stops</th>\n",
       "      <th>equipment</th>\n",
       "      <th>latitude_source</th>\n",
       "      <th>longitude_source</th>\n",
       "      <th>latitude_dest</th>\n",
       "      <th>longitude_dest</th>\n",
       "    </tr>\n",
       "  </thead>\n",
       "  <tbody>\n",
       "    <tr>\n",
       "      <td>0</td>\n",
       "      <td>0</td>\n",
       "      <td>DL</td>\n",
       "      <td>2009.0</td>\n",
       "      <td>ABE</td>\n",
       "      <td>4355.0</td>\n",
       "      <td>ATL</td>\n",
       "      <td>3682.0</td>\n",
       "      <td>NaN</td>\n",
       "      <td>0</td>\n",
       "      <td>717</td>\n",
       "      <td>40.652100</td>\n",
       "      <td>-75.440804</td>\n",
       "      <td>33.636700</td>\n",
       "      <td>-84.428101</td>\n",
       "    </tr>\n",
       "    <tr>\n",
       "      <td>1</td>\n",
       "      <td>1</td>\n",
       "      <td>DL</td>\n",
       "      <td>2009.0</td>\n",
       "      <td>ABQ</td>\n",
       "      <td>4019.0</td>\n",
       "      <td>ATL</td>\n",
       "      <td>3682.0</td>\n",
       "      <td>NaN</td>\n",
       "      <td>0</td>\n",
       "      <td>757 320</td>\n",
       "      <td>35.040199</td>\n",
       "      <td>-106.609001</td>\n",
       "      <td>33.636700</td>\n",
       "      <td>-84.428101</td>\n",
       "    </tr>\n",
       "    <tr>\n",
       "      <td>2</td>\n",
       "      <td>2</td>\n",
       "      <td>DL</td>\n",
       "      <td>2009.0</td>\n",
       "      <td>ABQ</td>\n",
       "      <td>4019.0</td>\n",
       "      <td>MSP</td>\n",
       "      <td>3858.0</td>\n",
       "      <td>NaN</td>\n",
       "      <td>0</td>\n",
       "      <td>320</td>\n",
       "      <td>35.040199</td>\n",
       "      <td>-106.609001</td>\n",
       "      <td>44.882000</td>\n",
       "      <td>-93.221802</td>\n",
       "    </tr>\n",
       "    <tr>\n",
       "      <td>3</td>\n",
       "      <td>3</td>\n",
       "      <td>DL</td>\n",
       "      <td>2009.0</td>\n",
       "      <td>ACC</td>\n",
       "      <td>248.0</td>\n",
       "      <td>JFK</td>\n",
       "      <td>3797.0</td>\n",
       "      <td>NaN</td>\n",
       "      <td>0</td>\n",
       "      <td>76W</td>\n",
       "      <td>5.605190</td>\n",
       "      <td>-0.166786</td>\n",
       "      <td>40.639801</td>\n",
       "      <td>-73.778900</td>\n",
       "    </tr>\n",
       "    <tr>\n",
       "      <td>4</td>\n",
       "      <td>4</td>\n",
       "      <td>DL</td>\n",
       "      <td>2009.0</td>\n",
       "      <td>ACC</td>\n",
       "      <td>248.0</td>\n",
       "      <td>ROB</td>\n",
       "      <td>1063.0</td>\n",
       "      <td>NaN</td>\n",
       "      <td>0</td>\n",
       "      <td>76W</td>\n",
       "      <td>5.605190</td>\n",
       "      <td>-0.166786</td>\n",
       "      <td>6.233790</td>\n",
       "      <td>-10.362300</td>\n",
       "    </tr>\n",
       "  </tbody>\n",
       "</table>\n",
       "</div>"
      ],
      "text/plain": [
       "   Unnamed: 0 airline  airline_id source  source_id dest  dest_id  codeshare  \\\n",
       "0           0      DL      2009.0    ABE     4355.0  ATL   3682.0        NaN   \n",
       "1           1      DL      2009.0    ABQ     4019.0  ATL   3682.0        NaN   \n",
       "2           2      DL      2009.0    ABQ     4019.0  MSP   3858.0        NaN   \n",
       "3           3      DL      2009.0    ACC      248.0  JFK   3797.0        NaN   \n",
       "4           4      DL      2009.0    ACC      248.0  ROB   1063.0        NaN   \n",
       "\n",
       "   stops equipment  latitude_source  longitude_source  latitude_dest  \\\n",
       "0      0       717        40.652100        -75.440804      33.636700   \n",
       "1      0   757 320        35.040199       -106.609001      33.636700   \n",
       "2      0       320        35.040199       -106.609001      44.882000   \n",
       "3      0       76W         5.605190         -0.166786      40.639801   \n",
       "4      0       76W         5.605190         -0.166786       6.233790   \n",
       "\n",
       "   longitude_dest  \n",
       "0      -84.428101  \n",
       "1      -84.428101  \n",
       "2      -93.221802  \n",
       "3      -73.778900  \n",
       "4      -10.362300  "
      ]
     },
     "execution_count": 12,
     "metadata": {},
     "output_type": "execute_result"
    }
   ],
   "source": [
    "# read the data\n",
    "routes = pd.read_csv('data/delta_routes.csv')\n",
    "routes.head()"
   ]
  },
  {
   "cell_type": "markdown",
   "metadata": {},
   "source": [
    "### As a review, let's build an interactive map to see what this looks like\n",
    "\n"
   ]
  },
  {
   "cell_type": "code",
   "execution_count": 13,
   "metadata": {},
   "outputs": [],
   "source": [
    "import pyproj\n",
    "import folium"
   ]
  },
  {
   "cell_type": "code",
   "execution_count": 4,
   "metadata": {},
   "outputs": [],
   "source": [
    "\n",
    "# when creating a function, it is good practice to define the API!\n",
    "def getGreatCirclePoints(startlat, startlon, endlat, endlon): \n",
    "    \"\"\"\n",
    "    startlat - starting latitude \n",
    "    startlon - starting longitude \n",
    "    endlat   - ending latitude \n",
    "    endlon   - ending longitude \n",
    "    \n",
    "    returns - a list of tuples, where each tuple is the lat-long for a point\n",
    "              along the curve.  \n",
    "    \"\"\"\n",
    "    # calculate distance between points\n",
    "    g = pyproj.Geod(ellps='WGS84')\n",
    "    (az12, az21, dist) = g.inv(startlon, startlat, endlon, endlat)\n",
    "\n",
    "    # calculate line string along path with segments <= 20 km\n",
    "    lonlats = g.npts(startlon, startlat, endlon, endlat,\n",
    "                     1 + int(dist / 20000))\n",
    "\n",
    "    # the npts function uses lon-lat, while the folium functions use lat-lon\n",
    "    # This sort of thing is maddening!  What happens is the lines don't show\n",
    "    # up on the map and you don't know why.  Learn from my mistakes\n",
    "    latlons = []\n",
    "    for lon_lat in lonlats: \n",
    "        \n",
    "        # this is how you get values out of a tuple\n",
    "        (lon, lat) = lon_lat\n",
    "        \n",
    "        # add them to our list\n",
    "        latlons.append((lat, lon)) \n",
    "    \n",
    "    # npts doesn't include start/end points, so prepend/append them\n",
    "    latlons.insert(0, (startlat, startlon))\n",
    "    latlons.append((endlat, endlon))\n",
    "    \n",
    "    return latlons\n"
   ]
  },
  {
   "cell_type": "code",
   "execution_count": 7,
   "metadata": {},
   "outputs": [],
   "source": [
    "# create a basic map, centered on Lexington\n",
    "m = folium.Map(\n",
    "    location=[38.034,-84.500],\n",
    "    tiles='Stamen Toner',\n",
    "    zoom_start=4\n",
    ")"
   ]
  },
  {
   "cell_type": "code",
   "execution_count": 10,
   "metadata": {},
   "outputs": [],
   "source": [
    "# define the map in the same way, but use great circles for the lines\n",
    "\n",
    "# Define some empty sets\n",
    "airport_set = set()\n",
    "route_set = set()\n",
    "\n",
    "# Make sure we don't add duplicates, especially for the origins\n",
    "for name, row in routes.iterrows():\n",
    "    \n",
    "    if row['source'] not in airport_set: \n",
    "        popup_string = row['source']\n",
    "        marker = folium.CircleMarker([row[\"latitude_source\"], row[\"longitude_source\"]], \n",
    "                                     color='DarkCyan',\n",
    "                                     fill_color='DarkCyan', \n",
    "                                     radius=5, popup=popup_string)\n",
    "        marker.add_to(m)\n",
    "        airport_set.add(row['source'])\n",
    "        \n",
    "    if row['dest'] not in airport_set: \n",
    "        popup_string = row['dest']\n",
    "        marker = folium.CircleMarker([row[\"latitude_dest\"], row[\"longitude_dest\"]], \n",
    "                                     color='MidnightBlue',\n",
    "                                     fill_color='MidnightBlue', \n",
    "                                     radius=5, popup=popup_string)\n",
    "        marker.add_to(m)\n",
    "        airport_set.add(row['dest'])\n",
    "    \n",
    "    # PolyLine will accept a whole list of tuples, not just two\n",
    "    if (row['source'],row['dest']) not in route_set:            \n",
    "        popup_string = row['source'] + '-' + row['dest']       \n",
    "        \n",
    "        gc_points = getGreatCirclePoints(row[\"latitude_source\"], \n",
    "                                         row[\"longitude_source\"], \n",
    "                                         row[\"latitude_dest\"], \n",
    "                                         row[\"longitude_dest\"])\n",
    "        \n",
    "        line = folium.PolyLine(gc_points, weight=2, popup=popup_string)\n",
    "        line.add_to(m)\n",
    "        route_set.add((row['source'],row['dest']))\n",
    "        "
   ]
  },
  {
   "cell_type": "code",
   "execution_count": 11,
   "metadata": {},
   "outputs": [],
   "source": [
    "# save it to its own file\n",
    "m.save(\"delta.html\")"
   ]
  },
  {
   "cell_type": "markdown",
   "metadata": {},
   "source": [
    "# Homework\n",
    "\n",
    "1. Represent the Delta flights as a network.  What are the nodes?  What are the links?\n",
    "2. Which is the most important airport in Delta's network?  Support your answer using appropriate network metrics.  \n",
    "3. How many flights are needed to reach Honolulu?  \n",
    "4. What is the maximum number of flights needed to reach any destination in Delta's network?\n",
    "5. Convert the network into a weighted network, using the travel time as the weight.  Assume that planes fly at 500 mph, plus 30 minutes to take off + 30 minutes to land.  \n",
    "6. How long does it take to travel to Honolulu, in flight times.  "
   ]
  },
  {
   "cell_type": "code",
   "execution_count": 64,
   "metadata": {},
   "outputs": [
    {
     "data": {
      "text/html": [
       "<div>\n",
       "<style scoped>\n",
       "    .dataframe tbody tr th:only-of-type {\n",
       "        vertical-align: middle;\n",
       "    }\n",
       "\n",
       "    .dataframe tbody tr th {\n",
       "        vertical-align: top;\n",
       "    }\n",
       "\n",
       "    .dataframe thead th {\n",
       "        text-align: right;\n",
       "    }\n",
       "</style>\n",
       "<table border=\"1\" class=\"dataframe\">\n",
       "  <thead>\n",
       "    <tr style=\"text-align: right;\">\n",
       "      <th></th>\n",
       "      <th>Unnamed: 0</th>\n",
       "      <th>airline</th>\n",
       "      <th>airline_id</th>\n",
       "      <th>source</th>\n",
       "      <th>source_id</th>\n",
       "      <th>dest</th>\n",
       "      <th>dest_id</th>\n",
       "      <th>codeshare</th>\n",
       "      <th>stops</th>\n",
       "      <th>equipment</th>\n",
       "      <th>latitude_source</th>\n",
       "      <th>longitude_source</th>\n",
       "      <th>latitude_dest</th>\n",
       "      <th>longitude_dest</th>\n",
       "    </tr>\n",
       "  </thead>\n",
       "  <tbody>\n",
       "    <tr>\n",
       "      <td>0</td>\n",
       "      <td>0</td>\n",
       "      <td>DL</td>\n",
       "      <td>2009.0</td>\n",
       "      <td>ABE</td>\n",
       "      <td>4355.0</td>\n",
       "      <td>ATL</td>\n",
       "      <td>3682.0</td>\n",
       "      <td>NaN</td>\n",
       "      <td>0</td>\n",
       "      <td>717</td>\n",
       "      <td>40.652100</td>\n",
       "      <td>-75.440804</td>\n",
       "      <td>33.636700</td>\n",
       "      <td>-84.428101</td>\n",
       "    </tr>\n",
       "    <tr>\n",
       "      <td>1</td>\n",
       "      <td>1</td>\n",
       "      <td>DL</td>\n",
       "      <td>2009.0</td>\n",
       "      <td>ABQ</td>\n",
       "      <td>4019.0</td>\n",
       "      <td>ATL</td>\n",
       "      <td>3682.0</td>\n",
       "      <td>NaN</td>\n",
       "      <td>0</td>\n",
       "      <td>757 320</td>\n",
       "      <td>35.040199</td>\n",
       "      <td>-106.609001</td>\n",
       "      <td>33.636700</td>\n",
       "      <td>-84.428101</td>\n",
       "    </tr>\n",
       "    <tr>\n",
       "      <td>2</td>\n",
       "      <td>2</td>\n",
       "      <td>DL</td>\n",
       "      <td>2009.0</td>\n",
       "      <td>ABQ</td>\n",
       "      <td>4019.0</td>\n",
       "      <td>MSP</td>\n",
       "      <td>3858.0</td>\n",
       "      <td>NaN</td>\n",
       "      <td>0</td>\n",
       "      <td>320</td>\n",
       "      <td>35.040199</td>\n",
       "      <td>-106.609001</td>\n",
       "      <td>44.882000</td>\n",
       "      <td>-93.221802</td>\n",
       "    </tr>\n",
       "    <tr>\n",
       "      <td>3</td>\n",
       "      <td>3</td>\n",
       "      <td>DL</td>\n",
       "      <td>2009.0</td>\n",
       "      <td>ACC</td>\n",
       "      <td>248.0</td>\n",
       "      <td>JFK</td>\n",
       "      <td>3797.0</td>\n",
       "      <td>NaN</td>\n",
       "      <td>0</td>\n",
       "      <td>76W</td>\n",
       "      <td>5.605190</td>\n",
       "      <td>-0.166786</td>\n",
       "      <td>40.639801</td>\n",
       "      <td>-73.778900</td>\n",
       "    </tr>\n",
       "    <tr>\n",
       "      <td>4</td>\n",
       "      <td>4</td>\n",
       "      <td>DL</td>\n",
       "      <td>2009.0</td>\n",
       "      <td>ACC</td>\n",
       "      <td>248.0</td>\n",
       "      <td>ROB</td>\n",
       "      <td>1063.0</td>\n",
       "      <td>NaN</td>\n",
       "      <td>0</td>\n",
       "      <td>76W</td>\n",
       "      <td>5.605190</td>\n",
       "      <td>-0.166786</td>\n",
       "      <td>6.233790</td>\n",
       "      <td>-10.362300</td>\n",
       "    </tr>\n",
       "  </tbody>\n",
       "</table>\n",
       "</div>"
      ],
      "text/plain": [
       "   Unnamed: 0 airline  airline_id source  source_id dest  dest_id  codeshare  \\\n",
       "0           0      DL      2009.0    ABE     4355.0  ATL   3682.0        NaN   \n",
       "1           1      DL      2009.0    ABQ     4019.0  ATL   3682.0        NaN   \n",
       "2           2      DL      2009.0    ABQ     4019.0  MSP   3858.0        NaN   \n",
       "3           3      DL      2009.0    ACC      248.0  JFK   3797.0        NaN   \n",
       "4           4      DL      2009.0    ACC      248.0  ROB   1063.0        NaN   \n",
       "\n",
       "   stops equipment  latitude_source  longitude_source  latitude_dest  \\\n",
       "0      0       717        40.652100        -75.440804      33.636700   \n",
       "1      0   757 320        35.040199       -106.609001      33.636700   \n",
       "2      0       320        35.040199       -106.609001      44.882000   \n",
       "3      0       76W         5.605190         -0.166786      40.639801   \n",
       "4      0       76W         5.605190         -0.166786       6.233790   \n",
       "\n",
       "   longitude_dest  \n",
       "0      -84.428101  \n",
       "1      -84.428101  \n",
       "2      -93.221802  \n",
       "3      -73.778900  \n",
       "4      -10.362300  "
      ]
     },
     "execution_count": 64,
     "metadata": {},
     "output_type": "execute_result"
    }
   ],
   "source": [
    "# imports\n",
    "import pandas as pd\n",
    "import networkx as nx\n",
    "from collections import defaultdict\n",
    "import matplotlib.pyplot as plt\n",
    "\n",
    "%matplotlib inline\n",
    "df = pd.read_csv('data/delta_routes.csv')\n",
    "df.head()"
   ]
  },
  {
   "cell_type": "code",
   "execution_count": 79,
   "metadata": {},
   "outputs": [],
   "source": [
    "dg = nx.DiGraph()\n",
    "src_dict = defaultdict(list)\n",
    "dest_dict = {}\n",
    "\n",
    "GREEN = \"#77DD77\"\n",
    "BLUE = \"#99CCFF\"\n",
    "\n",
    "counter = 0\n",
    "for index, row in df.iterrows():\n",
    "    if row['source'] not in src_dict:\n",
    "        src_dict[row['source']].append(row['dest'])\n",
    "    elif row['dest'] not in src_dict[row['source']]:\n",
    "        src_dict[row['source']].append(row['dest'])\n",
    "    dest_dict[row['dest']] = 0\n",
    "    test_g.add_edge(row['source'], row['dest'])"
   ]
  },
  {
   "cell_type": "code",
   "execution_count": 80,
   "metadata": {},
   "outputs": [
    {
     "data": {
      "image/png": "[encoded data removed]",
      "text/plain": [
       "<Figure size 432x288 with 1 Axes>"
      ]
     },
     "metadata": {},
     "output_type": "display_data"
    }
   ],
   "source": [
    "#1 Represent the Delta flights as a network. What are the nodes? What are the links?\n",
    "for key in src_dict:\n",
    "    for dest in src_dict[key]:\n",
    "        dg.add_edge(key, dest)\n",
    "        \n",
    "# print('directed edges:', dg.edges())\n",
    "plt.subplot(2, 2, 3)\n",
    "nx.draw(dg, node_color=GREEN, node_size = 1000, with_labels=True)\n",
    "# plt.title('Shell Layout', fontsize=18)\n",
    "\n",
    "\n"
   ]
  },
  {
   "cell_type": "code",
   "execution_count": 81,
   "metadata": {},
   "outputs": [
    {
     "name": "stdout",
     "output_type": "stream",
     "text": [
      "\n",
      "Degree Centrality, Normalized:\n",
      "ATL\n",
      "ATL\n"
     ]
    }
   ],
   "source": [
    "#2 Which is the most important airport in Delta's network? Support your answer using appropriate network metrics.\n",
    "\n",
    "print('\\nDegree Centrality, Normalized:')\n",
    "result = nx.degree_centrality(dg)\n",
    "# print(result)\n",
    "maxKey = max(result, key = lambda x: result[x])\n",
    "print(maxKey)\n",
    "\n",
    "result = nx.degree_centrality(test_g)\n",
    "# print(result)\n",
    "maxKey = max(result, key = lambda x: result[x])\n",
    "print(maxKey)"
   ]
  },
  {
   "cell_type": "code",
   "execution_count": 82,
   "metadata": {},
   "outputs": [
    {
     "name": "stdout",
     "output_type": "stream",
     "text": [
      "18\n",
      "18\n"
     ]
    }
   ],
   "source": [
    "#3 How many flights are needed to reach Honolulu?\n",
    "# Honolulu (HNL)\n",
    "print(dg.degree('HNL'))\n",
    "\n",
    "print(test_g.degree('HNL'))"
   ]
  },
  {
   "cell_type": "code",
   "execution_count": 85,
   "metadata": {},
   "outputs": [],
   "source": [
    "src = df['source'].unique()\n",
    "dest   = df['dest'  ].unique()"
   ]
  },
  {
   "cell_type": "code",
   "execution_count": 86,
   "metadata": {},
   "outputs": [
    {
     "name": "stdout",
     "output_type": "stream",
     "text": [
      "6\n",
      "6\n"
     ]
    }
   ],
   "source": [
    "#4 What is the maximum number of flights needed to reach any destination in Delta's network?\n",
    "\n",
    "# print('\\nCloseness Centrality, Normalized:')\n",
    "# result = nx.closeness_centrality(dg)\n",
    "# print(result)\n",
    "# maxKey = max(result, key = lambda x: result[x])\n",
    "# print(maxKey)\n",
    "\n",
    "length = 0\n",
    "test_len = 0\n",
    "for dest_node in dest:\n",
    "    for src_node in src:\n",
    "        if src_node != dest_node:\n",
    "            if length < len(nx.shortest_path(dg, source = src_node, target = dest_node)):\n",
    "                length = len(nx.shortest_path(dg, source = src_node, target = dest_node))\n",
    "            if test_len < len(nx.shortest_path(test_g, source = src_node, target = dest_node)):\n",
    "                test_len = len(nx.shortest_path(test_g, source = src_node, target = dest_node))\n",
    "            \n",
    "print(length)\n",
    "print(test_len)"
   ]
  },
  {
   "cell_type": "code",
   "execution_count": 99,
   "metadata": {},
   "outputs": [
    {
     "name": "stdout",
     "output_type": "stream",
     "text": [
      "[('ABE', 'ATL', {'attr_dict': {'weight': 2.384453592417099}}), ('ATL', 'ABE', {'attr_dict': {'weight': 2.384453592417099}}), ('ATL', 'ABQ', {'attr_dict': {'weight': 3.5385978730248198}}), ('ATL', 'AGS', {'attr_dict': {'weight': 1.2868426224106204}}), ('ATL', 'ALB', {'attr_dict': {'weight': 2.705459709987698}}), ('ATL', 'AMS', {'attr_dict': {'weight': 9.801351842420125}}), ('ATL', 'AUA', {'attr_dict': {'weight': 4.4306116501263055}}), ('ATL', 'AUS', {'attr_dict': {'weight': 2.625677531145884}}), ('ATL', 'AVL', {'attr_dict': {'weight': 1.3283931162006555}}), ('ATL', 'BDA', {'attr_dict': {'weight': 3.2968572532151583}}), ('ATL', 'BDL', {'attr_dict': {'weight': 2.7187419780462143}}), ('ATL', 'BHM', {'attr_dict': {'weight': 1.2684131031035293}}), ('ATL', 'BNA', {'attr_dict': {'weight': 1.4277427571553836}}), ('ATL', 'BOG', {'attr_dict': {'weight': 5.195487553240803}}), ('ATL', 'BON', {'attr_dict': {'weight': 4.5953178442768525}}), ('ATL', 'BOS', {'attr_dict': {'weight': 2.892214483346973}}), ('ATL', 'BRU', {'attr_dict': {'weight': 9.85151282787465}}), ('ATL', 'BSB', {'attr_dict': {'weight': 9.339170898187307}}), ('ATL', 'BTR', {'attr_dict': {'weight': 1.8967928020593279}}), ('ATL', 'BUF', {'attr_dict': {'weight': 2.4241386802454317}}), ('ATL', 'BWI', {'attr_dict': {'weight': 2.153125243808467}}), ('ATL', 'BZE', {'attr_dict': {'weight': 3.268045549174712}}), ('ATL', 'CAE', {'attr_dict': {'weight': 1.383057144413873}}), ('ATL', 'CAK', {'attr_dict': {'weight': 2.056368157114295}}), ('ATL', 'CCS', {'attr_dict': {'weight': 4.865350197571484}}), ('ATL', 'CDG', {'attr_dict': {'weight': 9.788836977953515}}), ('ATL', 'CHA', {'attr_dict': {'weight': 1.2122298347920082}}), ('ATL', 'CHS', {'attr_dict': {'weight': 1.518066117649309}}), ('ATL', 'CLE', {'attr_dict': {'weight': 2.109018521438064}}), ('ATL', 'CLT', {'attr_dict': {'weight': 1.4535776310446809}}), ('ATL', 'CMH', {'attr_dict': {'weight': 1.8936431261054718}}), ('ATL', 'COS', {'attr_dict': {'weight': 3.3688402117432377}}), ('ATL', 'CRW', {'attr_dict': {'weight': 1.7261543984697014}}), ('ATL', 'CUN', {'attr_dict': {'weight': 2.7609299399820517}}), ('ATL', 'CVG', {'attr_dict': {'weight': 1.7468159191287687}}), ('ATL', 'CZM', {'attr_dict': {'weight': 2.8317571050056465}}), ('ATL', 'DAB', {'attr_dict': {'weight': 1.731819225025374}}), ('ATL', 'DAY', {'attr_dict': {'weight': 1.8644226449135495}}), ('ATL', 'DCA', {'attr_dict': {'weight': 2.094163453425681}}), ('ATL', 'DEN', {'attr_dict': {'weight': 3.398514838295257}}), ('ATL', 'DFW', {'attr_dict': {'weight': 2.4627160062032027}}), ('ATL', 'DSM', {'attr_dict': {'weight': 2.4861764646342714}}), ('ATL', 'DTW', {'attr_dict': {'weight': 2.1887059293232527}}), ('ATL', 'DUB', {'attr_dict': {'weight': 8.87537983475794}}), ('ATL', 'DUS', {'attr_dict': {'weight': 10.013955642036553}}), ('ATL', 'DXB', {'attr_dict': {'weight': 16.19846814389109}}), ('ATL', 'ECP', {'attr_dict': {'weight': 1.479601245952624}}), ('ATL', 'ELP', {'attr_dict': {'weight': 3.564753856161832}}), ('ATL', 'EWR', {'attr_dict': {'weight': 2.4912161885047905}}), ('ATL', 'EYW', {'attr_dict': {'weight': 2.291621788146706}}), ('ATL', 'EZE', {'attr_dict': {'weight': 10.99813157128409}}), ('ATL', 'FAY', {'attr_dict': {'weight': 1.6613840072152906}}), ('ATL', 'FCO', {'attr_dict': {'weight': 11.070935904624372}}), ('ATL', 'FLL', {'attr_dict': {'weight': 2.161291262343936}}), ('ATL', 'FNT', {'attr_dict': {'weight': 2.2890099985908017}}), ('ATL', 'FPO', {'attr_dict': {'weight': 2.1920795210413253}}), ('ATL', 'FRA', {'attr_dict': {'weight': 10.229854502173179}}), ('ATL', 'GCM', {'attr_dict': {'weight': 3.0110608623600594}}), ('ATL', 'GDL', {'attr_dict': {'weight': 3.937078378844602}}), ('ATL', 'GIG', {'attr_dict': {'weight': 10.470397764843904}}), ('ATL', 'GNV', {'attr_dict': {'weight': 1.6002316401540457}}), ('ATL', 'GPT', {'attr_dict': {'weight': 1.7034464018151572}}), ('ATL', 'GRR', {'attr_dict': {'weight': 2.280706474467289}}), ('ATL', 'GRU', {'attr_dict': {'weight': 10.305576416095617}}), ('ATL', 'GSO', {'attr_dict': {'weight': 1.6126864898286806}}), ('ATL', 'GSP', {'attr_dict': {'weight': 1.3066665674188598}}), ('ATL', 'GUA', {'attr_dict': {'weight': 3.7320263662183213}}), ('ATL', 'HNL', {'attr_dict': {'weight': 10.004477064470613}}), ('ATL', 'HOU', {'attr_dict': {'weight': 2.391386812910701}}), ('ATL', 'HSV', {'attr_dict': {'weight': 1.3023076021636903}}), ('ATL', 'IAD', {'attr_dict': {'weight': 2.067806989344544}}), ('ATL', 'IAH', {'attr_dict': {'weight': 2.3783440472763493}}), ('ATL', 'ICT', {'attr_dict': {'weight': 2.563138087694969}}), ('ATL', 'ILM', {'attr_dict': {'weight': 1.7545434405479865}}), ('ATL', 'IND', {'attr_dict': {'weight': 1.8637565967673204}}), ('ATL', 'JAN', {'attr_dict': {'weight': 1.6809689509608017}}), ('ATL', 'JAX', {'attr_dict': {'weight': 1.5393353870136774}}), ('ATL', 'JFK', {'attr_dict': {'weight': 2.519674965864219}}), ('ATL', 'JNB', {'attr_dict': {'weight': 17.878679863370763}}), ('ATL', 'KIN', {'attr_dict': {'weight': 3.3601319937840834}}), ('ATL', 'LAS', {'attr_dict': {'weight': 4.493255715958586}}), ('ATL', 'LAX', {'attr_dict': {'weight': 4.892914748577203}}), ('ATL', 'LEX', {'attr_dict': {'weight': 1.6070159103690318}}), ('ATL', 'LGA', {'attr_dict': {'weight': 2.5230432992455825}}), ('ATL', 'LHR', {'attr_dict': {'weight': 9.421234725982778}}), ('ATL', 'LIM', {'attr_dict': {'weight': 7.352982237849428}}), ('ATL', 'LIR', {'attr_dict': {'weight': 4.174498760957114}}), ('ATL', 'LIT', {'attr_dict': {'weight': 1.905526833719699}}), ('ATL', 'LOS', {'attr_dict': {'weight': 12.686955163612232}}), ('ATL', 'MAD', {'attr_dict': {'weight': 9.671118112360995}}), ('ATL', 'MAN', {'attr_dict': {'weight': 9.197086868141206}}), ('ATL', 'MBJ', {'attr_dict': {'weight': 3.2340542819810167}}), ('ATL', 'MCI', {'attr_dict': {'weight': 2.3849089489694992}}), ('ATL', 'MCO', {'attr_dict': {'weight': 1.8071693264421735}}), ('ATL', 'MDT', {'attr_dict': {'weight': 2.2392246513693324}}), ('ATL', 'MDW', {'attr_dict': {'weight': 2.1813454024266887}}), ('ATL', 'MEM', {'attr_dict': {'weight': 1.663312087808594}}), ('ATL', 'MEX', {'attr_dict': {'weight': 3.660742930997341}}), ('ATL', 'MGA', {'attr_dict': {'weight': 3.966664716137545}}), ('ATL', 'MHT', {'attr_dict': {'weight': 2.9037161580765907}}), ('ATL', 'MIA', {'attr_dict': {'weight': 2.18920298310031}}), ('ATL', 'MKE', {'attr_dict': {'weight': 2.3382322111469414}}), ('ATL', 'MLB', {'attr_dict': {'weight': 1.8849415742051208}}), ('ATL', 'MOB', {'attr_dict': {'weight': 1.6038229388478098}}), ('ATL', 'MSN', {'attr_dict': {'weight': 2.414500246884101}}), ('ATL', 'MSP', {'attr_dict': {'weight': 2.8131637120336874}}), ('ATL', 'MSY', {'attr_dict': {'weight': 1.849802390290213}}), ('ATL', 'MUC', {'attr_dict': {'weight': 10.594010039399349}}), ('ATL', 'MYR', {'attr_dict': {'weight': 1.6339055761611336}}), ('ATL', 'NAS', {'attr_dict': {'weight': 2.451164807945932}}), ('ATL', 'NRT', {'attr_dict': {'weight': 14.70085790410859}}), ('ATL', 'OKC', {'attr_dict': {'weight': 2.521350144649947}}), ('ATL', 'OMA', {'attr_dict': {'weight': 2.6427075108721465}}), ('ATL', 'ORD', {'attr_dict': {'weight': 2.211620565679926}}), ('ATL', 'ORF', {'attr_dict': {'weight': 2.0325411710424675}}), ('ATL', 'PAP', {'attr_dict': {'weight': 3.559151285076329}}), ('ATL', 'PBI', {'attr_dict': {'weight': 2.0890293029003892}}), ('ATL', 'PDX', {'attr_dict': {'weight': 5.344368939033024}}), ('ATL', 'PHL', {'attr_dict': {'weight': 2.332403087131488}}), ('ATL', 'PHX', {'attr_dict': {'weight': 4.174643008002262}}), ('ATL', 'PIT', {'attr_dict': {'weight': 2.0526415707582193}}), ('ATL', 'PLS', {'attr_dict': {'weight': 3.2079454076247216}}), ('ATL', 'PNS', {'attr_dict': {'weight': 1.5429255911572841}}), ('ATL', 'PTY', {'attr_dict': {'weight': 4.441121332428273}}), ('ATL', 'PUJ', {'attr_dict': {'weight': 3.8720125871570374}}), ('ATL', 'PVD', {'attr_dict': {'weight': 2.8076033058754035}}), ('ATL', 'PVR', {'attr_dict': {'weight': 4.114189268272614}}), ('ATL', 'PWM', {'attr_dict': {'weight': 3.0538606641819936}}), ('ATL', 'RDU', {'attr_dict': {'weight': 1.7121189124931333}}), ('ATL', 'RIC', {'attr_dict': {'weight': 1.9617101693702725}}), ('ATL', 'ROA', {'attr_dict': {'weight': 1.7145683719294484}}), ('ATL', 'ROC', {'attr_dict': {'weight': 2.4984745585895047}}), ('ATL', 'RSW', {'attr_dict': {'weight': 2.029141686543859}}), ('ATL', 'RTB', {'attr_dict': {'weight': 3.398669271590515}}), ('ATL', 'SAL', {'attr_dict': {'weight': 3.8402133904750744}}), ('ATL', 'SAN', {'attr_dict': {'weight': 4.783061038758978}}), ('ATL', 'SAP', {'attr_dict': {'weight': 3.5411233542524623}}), ('ATL', 'SAT', {'attr_dict': {'weight': 2.748344810945305}}), ('ATL', 'SAV', {'attr_dict': {'weight': 1.4289222518612372}}), ('ATL', 'SCL', {'attr_dict': {'weight': 10.38991563909906}}), ('ATL', 'SDF', {'attr_dict': {'weight': 1.6426603740772174}}), ('ATL', 'SDQ', {'attr_dict': {'weight': 3.777876605362852}}), ('ATL', 'SEA', {'attr_dict': {'weight': 5.363560548112177}}), ('ATL', 'SFO', {'attr_dict': {'weight': 5.277793180295842}}), ('ATL', 'SJC', {'attr_dict': {'weight': 5.231618861913142}}), ('ATL', 'SJD', {'attr_dict': {'weight': 4.389576697037448}}), ('ATL', 'SJO', {'attr_dict': {'weight': 4.253853589297578}}), ('ATL', 'SJU', {'attr_dict': {'weight': 4.093415267521066}}), ('ATL', 'SLC', {'attr_dict': {'weight': 4.1796079171406655}}), ('ATL', 'SMF', {'attr_dict': {'weight': 5.184337163479159}}), ('ATL', 'SNA', {'attr_dict': {'weight': 4.8374651578404135}}), ('ATL', 'SRQ', {'attr_dict': {'weight': 1.8883938410831291}}), ('ATL', 'STL', {'attr_dict': {'weight': 1.968065812754714}}), ('ATL', 'STR', {'attr_dict': {'weight': 10.363124910421153}}), ('ATL', 'STT', {'attr_dict': {'weight': 4.197965684749111}}), ('ATL', 'SXM', {'attr_dict': {'weight': 4.402307749454449}}), ('ATL', 'SYR', {'attr_dict': {'weight': 2.587146133332376}}), ('ATL', 'TGU', {'attr_dict': {'weight': 3.7172946321936746}}), ('ATL', 'TLH', {'attr_dict': {'weight': 1.4466067415795947}}), ('ATL', 'TPA', {'attr_dict': {'weight': 1.8118407361847835}}), ('ATL', 'TRI', {'attr_dict': {'weight': 1.453439233090875}}), ('ATL', 'TUL', {'attr_dict': {'weight': 2.3475389111758105}}), ('ATL', 'TUS', {'attr_dict': {'weight': 4.082152554175015}}), ('ATL', 'TYS', {'attr_dict': {'weight': 1.3038026687487947}}), ('ATL', 'UIO', {'attr_dict': {'weight': 5.71151603745515}}), ('ATL', 'UVF', {'attr_dict': {'weight': 5.024776152269092}}), ('ATL', 'VPS', {'attr_dict': {'weight': 1.4993926176567434}}), ('ATL', 'XNA', {'attr_dict': {'weight': 2.178419304705001}}), ('ATL', 'ZRH', {'attr_dict': {'weight': 10.381596924722007}}), ('ABQ', 'ATL', {'attr_dict': {'weight': 3.5385978730248198}}), ('ABQ', 'MSP', {'attr_dict': {'weight': 2.961026473469321}}), ('MSP', 'ABQ', {'attr_dict': {'weight': 2.961026473469321}}), ('MSP', 'AMS', {'attr_dict': {'weight': 9.331985949532006}}), ('MSP', 'ANC', {'attr_dict': {'weight': 6.036935747502621}}), ('MSP', 'ATL', {'attr_dict': {'weight': 2.8131637120336874}}), ('MSP', 'BDL', {'attr_dict': {'weight': 3.100932535687188}}), ('MSP', 'BIL', {'attr_dict': {'weight': 2.495387530979145}}), ('MSP', 'BOI', {'attr_dict': {'weight': 3.283596906178188}}), ('MSP', 'BOS', {'attr_dict': {'weight': 3.2480998535151304}}), ('MSP', 'BWI', {'attr_dict': {'weight': 2.8722908656476127}}), ('MSP', 'BZN', {'attr_dict': {'weight': 2.747593350741777}}), ('MSP', 'CDG', {'attr_dict': {'weight': 9.44346901493404}}), ('MSP', 'CLT', {'attr_dict': {'weight': 2.860118115619275}}), ('MSP', 'CMH', {'attr_dict': {'weight': 2.2515748368085147}}), ('MSP', 'CUN', {'attr_dict': {'weight': 4.365673498884183}}), ('MSP', 'DCA', {'attr_dict': {'weight': 2.8611721687866445}}), ('MSP', 'DEN', {'attr_dict': {'weight': 2.3598017552010386}}), ('MSP', 'DFW', {'attr_dict': {'weight': 2.7033868776542276}}), ('MSP', 'DTW', {'attr_dict': {'weight': 2.0565550729555984}}), ('MSP', 'EWR', {'attr_dict': {'weight': 3.0164243057492075}}), ('MSP', 'FAR', {'attr_dict': {'weight': 1.4464955735267768}}), ('MSP', 'FLL', {'attr_dict': {'weight': 3.974280638045777}}), ('MSP', 'FSD', {'attr_dict': {'weight': 1.3928560264891747}}), ('MSP', 'GEG', {'attr_dict': {'weight': 3.3503460371513785}}), ('MSP', 'GRR', {'attr_dict': {'weight': 1.8166736730352655}}), ('MSP', 'IAH', {'attr_dict': {'weight': 3.0677854322870766}}), ('MSP', 'IND', {'attr_dict': {'weight': 2.0053811235615173}}), ('MSP', 'JFK', {'attr_dict': {'weight': 3.056974872281546}}), ('MSP', 'LAS', {'attr_dict': {'weight': 3.5989091402907243}}), ('MSP', 'LAX', {'attr_dict': {'weight': 4.0707964807133}}), ('MSP', 'LGA', {'attr_dict': {'weight': 3.0405650007799894}}), ('MSP', 'LHR', {'attr_dict': {'weight': 9.030293005407891}}), ('MSP', 'MCI', {'attr_dict': {'weight': 1.7859343844474729}}), ('MSP', 'MCO', {'attr_dict': {'weight': 3.6203129300325556}}), ('MSP', 'MEM', {'attr_dict': {'weight': 2.400449419035518}}), ('MSP', 'MIA', {'attr_dict': {'weight': 4.001493988287978}}), ('MSP', 'MKE', {'attr_dict': {'weight': 1.5947475179953545}}), ('MSP', 'MSN', {'attr_dict': {'weight': 1.4556767176115755}}), ('MSP', 'MSO', {'attr_dict': {'weight': 3.0260272355956546}}), ('MSP', 'NRT', {'attr_dict': {'weight': 12.900018160736925}}), ('MSP', 'OMA', {'attr_dict': {'weight': 1.5631591945395122}}), ('MSP', 'ORD', {'attr_dict': {'weight': 1.668297936096378}}), ('MSP', 'PDX', {'attr_dict': {'weight': 3.852243259560292}}), ('MSP', 'PHL', {'attr_dict': {'weight': 2.960878212588433}}), ('MSP', 'PHX', {'attr_dict': {'weight': 3.552044899050113}}), ('MSP', 'PIT', {'attr_dict': {'weight': 2.452898809337063}}), ('MSP', 'PSP', {'attr_dict': {'weight': 3.90740505056027}}), ('MSP', 'RDU', {'attr_dict': {'weight': 2.9606255493130957}}), ('MSP', 'RSW', {'attr_dict': {'weight': 3.83266143510134}}), ('MSP', 'SAN', {'attr_dict': {'weight': 4.064320656919663}}), ('MSP', 'SDF', {'attr_dict': {'weight': 2.2071730075611256}}), ('MSP', 'SEA', {'attr_dict': {'weight': 3.79757288563752}}), ('MSP', 'SFO', {'attr_dict': {'weight': 4.177682951015083}}), ('MSP', 'SJC', {'attr_dict': {'weight': 4.150971622343862}}), ('MSP', 'SLC', {'attr_dict': {'weight': 2.982565414012389}}), ('MSP', 'SMF', {'attr_dict': {'weight': 4.034884236143711}}), ('MSP', 'SNA', {'attr_dict': {'weight': 4.043733347776035}}), ('MSP', 'STL', {'attr_dict': {'weight': 1.8961775983603162}}), ('MSP', 'TPA', {'attr_dict': {'weight': 3.6126687974836567}}), ('MSP', 'TUS', {'attr_dict': {'weight': 3.5952879452942117}}), ('MSP', 'YYC', {'attr_dict': {'weight': 3.102931557901583}}), ('ACC', 'JFK', {'attr_dict': {'weight': 11.221569596955165}}), ('ACC', 'ROB', {'attr_dict': {'weight': 2.405621475261123}}), ('JFK', 'ACC', {'attr_dict': {'weight': 11.221569596955165}}), ('JFK', 'AMS', {'attr_dict': {'weight': 8.286620970166712}}), ('JFK', 'ATL', {'attr_dict': {'weight': 2.519674965864219}}), ('JFK', 'AUA', {'attr_dict': {'weight': 4.9018262410041835}}), ('JFK', 'AUS', {'attr_dict': {'weight': 4.042853454574555}}), ('JFK', 'BCN', {'attr_dict': {'weight': 8.662641328454706}}), ('JFK', 'BDA', {'attr_dict': {'weight': 2.5243230997157378}}), ('JFK', 'BNA', {'attr_dict': {'weight': 2.5309143647022285}}), ('JFK', 'BOG', {'attr_dict': {'weight': 5.947179691356093}}), ('JFK', 'BOS', {'attr_dict': {'weight': 1.3734377415287182}}), ('JFK', 'BRU', {'attr_dict': {'weight': 8.333927616359613}}), ('JFK', 'BUF', {'attr_dict': {'weight': 1.6020524879508156}}), ('JFK', 'BWI', {'attr_dict': {'weight': 1.3675348734896269}}), ('JFK', 'CDG', {'attr_dict': {'weight': 8.269197852373487}}), ('JFK', 'CHS', {'attr_dict': {'weight': 2.2729081378496683}}), ('JFK', 'CLE', {'attr_dict': {'weight': 1.8499326557514224}}), ('JFK', 'CLT', {'attr_dict': {'weight': 2.082255246637732}}), ('JFK', 'CMH', {'attr_dict': {'weight': 1.9662072921582476}}), ('JFK', 'CUN', {'attr_dict': {'weight': 4.109414613352636}}), ('JFK', 'CVG', {'attr_dict': {'weight': 2.1779833179613464}}), ('JFK', 'DCA', {'attr_dict': {'weight': 1.4257791405468239}}), ('JFK', 'DEN', {'attr_dict': {'weight': 4.251451720814476}}), ('JFK', 'DFW', {'attr_dict': {'weight': 3.7820725508724977}}), ('JFK', 'DKR', {'attr_dict': {'weight': 8.611169301154806}}), ('JFK', 'DTW', {'attr_dict': {'weight': 2.0174295311199177}}), ('JFK', 'DUB', {'attr_dict': {'weight': 7.358579898838752}}), ('JFK', 'FCO', {'attr_dict': {'weight': 9.554106246174644}}), ('JFK', 'FLL', {'attr_dict': {'weight': 3.1373452074376793}}), ('JFK', 'FRA', {'attr_dict': {'weight': 8.712661880663479}}), ('JFK', 'GND', {'attr_dict': {'weight': 5.2048856015509}}), ('JFK', 'GRU', {'attr_dict': {'weight': 10.489880636064377}}), ('JFK', 'GUA', {'attr_dict': {'weight': 5.118188728681157}}), ('JFK', 'IAD', {'attr_dict': {'weight': 1.455899074403301}}), ('JFK', 'ICN', {'attr_dict': {'weight': 14.811320526780179}}), ('JFK', 'IND', {'attr_dict': {'weight': 2.3296748682767117}}), ('JFK', 'JAX', {'attr_dict': {'weight': 2.6568796986756826}}), ('JFK', 'LAS', {'attr_dict': {'weight': 5.4958583519836255}}), ('JFK', 'LAX', {'attr_dict': {'weight': 5.949768687629222}}), ('JFK', 'LHR', {'attr_dict': {'weight': 7.902862218401453}}), ('JFK', 'LIR', {'attr_dict': {'weight': 5.380326716326566}}), ('JFK', 'MAD', {'attr_dict': {'weight': 8.179025084994269}}), ('JFK', 'MBJ', {'attr_dict': {'weight': 4.0888733268683115}}), ('JFK', 'MCO', {'attr_dict': {'weight': 2.8880035200553333}}), ('JFK', 'MEX', {'attr_dict': {'weight': 5.180240822449911}}), ('JFK', 'MIA', {'attr_dict': {'weight': 3.179271283667947}}), ('JFK', 'MSP', {'attr_dict': {'weight': 3.056974872281546}}), ('JFK', 'MXP', {'attr_dict': {'weight': 8.990471206337135}}), ('JFK', 'NAS', {'attr_dict': {'weight': 3.191981896960435}}), ('JFK', 'NCE', {'attr_dict': {'weight': 8.982801048439184}}), ('JFK', 'NRT', {'attr_dict': {'weight': 14.48926797963614}}), ('JFK', 'ORD', {'attr_dict': {'weight': 2.4798994977352957}}), ('JFK', 'ORF', {'attr_dict': {'weight': 1.5790776323296045}}), ('JFK', 'PAP', {'attr_dict': {'weight': 4.044129116285761}}), ('JFK', 'PDX', {'attr_dict': {'weight': 5.907798098871326}}), ('JFK', 'PHL', {'attr_dict': {'weight': 1.1874180334765732}}), ('JFK', 'PHX', {'attr_dict': {'weight': 5.306601693899291}}), ('JFK', 'PIT', {'attr_dict': {'weight': 1.679386117633419}}), ('JFK', 'PLS', {'attr_dict': {'weight': 3.605670553944264}}), ('JFK', 'PUJ', {'attr_dict': {'weight': 4.108140067002443}}), ('JFK', 'PVG', {'attr_dict': {'weight': 15.784846839726747}}), ('JFK', 'RDU', {'attr_dict': {'weight': 1.8530969153688948}}), ('JFK', 'RIC', {'attr_dict': {'weight': 1.5761117540249936}}), ('JFK', 'ROC', {'attr_dict': {'weight': 1.5275406822687363}}), ('JFK', 'SAN', {'attr_dict': {'weight': 5.8917841185093724}}), ('JFK', 'SAT', {'attr_dict': {'weight': 4.173779803018828}}), ('JFK', 'SAV', {'attr_dict': {'weight': 2.4350652267277004}}), ('JFK', 'SDF', {'attr_dict': {'weight': 2.323061844823727}}), ('JFK', 'SDQ', {'attr_dict': {'weight': 4.09848503351461}}), ('JFK', 'SEA', {'attr_dict': {'weight': 5.842678855082381}}), ('JFK', 'SFO', {'attr_dict': {'weight': 6.172129966599628}}), ('JFK', 'SJO', {'attr_dict': {'weight': 5.4089441679168955}}), ('JFK', 'SJU', {'attr_dict': {'weight': 4.195148328872678}}), ('JFK', 'SLC', {'attr_dict': {'weight': 4.978937566942124}}), ('JFK', 'STI', {'attr_dict': {'weight': 3.9494329630827987}}), ('JFK', 'STL', {'attr_dict': {'weight': 2.7849148640489467}}), ('JFK', 'STT', {'attr_dict': {'weight': 4.2460874012555525}}), ('JFK', 'SVO', {'attr_dict': {'weight': 10.322660181391022}}), ('JFK', 'SXM', {'attr_dict': {'weight': 4.362534913585901}}), ('JFK', 'SYR', {'attr_dict': {'weight': 1.4171164071960651}}), ('JFK', 'TLV', {'attr_dict': {'weight': 12.354857800341838}}), ('JFK', 'TPA', {'attr_dict': {'weight': 3.0100967161538694}}), ('JFK', 'VCE', {'attr_dict': {'weight': 9.30879577898487}}), ('JFK', 'YUL', {'attr_dict': {'weight': 1.6669563334920625}}), ('JFK', 'YYZ', {'attr_dict': {'weight': 1.7325093397466858}}), ('ROB', 'ACC', {'attr_dict': {'weight': 2.405621475261123}}), ('AGS', 'ATL', {'attr_dict': {'weight': 1.2868426224106204}}), ('ALB', 'ATL', {'attr_dict': {'weight': 2.705459709987698}}), ('AMS', 'ATL', {'attr_dict': {'weight': 9.801351842420125}}), ('AMS', 'BOM', {'attr_dict': {'weight': 9.53285477472696}}), ('AMS', 'BOS', {'attr_dict': {'weight': 7.913197602555775}}), ('AMS', 'DTW', {'attr_dict': {'weight': 8.88067238005151}}), ('AMS', 'EWR', {'attr_dict': {'weight': 8.312743676991964}}), ('AMS', 'JFK', {'attr_dict': {'weight': 8.286620970166712}}), ('AMS', 'MSP', {'attr_dict': {'weight': 9.331985949532006}}), ('AMS', 'PDX', {'attr_dict': {'weight': 11.007124347558705}}), ('AMS', 'SEA', {'attr_dict': {'weight': 10.772492851252682}}), ('BOM', 'AMS', {'attr_dict': {'weight': 9.53285477472696}}), ('BOS', 'AMS', {'attr_dict': {'weight': 7.913197602555775}}), ('BOS', 'ATL', {'attr_dict': {'weight': 2.892214483346973}}), ('BOS', 'BDA', {'attr_dict': {'weight': 2.5440135031309525}}), ('BOS', 'CDG', {'attr_dict': {'weight': 7.896709325964675}}), ('BOS', 'CMH', {'attr_dict': {'weight': 2.28053393393834}}), ('BOS', 'CUN', {'attr_dict': {'weight': 4.470018322940003}}), ('BOS', 'CVG', {'attr_dict': {'weight': 2.5040455759776776}}), ('BOS', 'DTW', {'attr_dict': {'weight': 2.2647020796311184}}), ('BOS', 'JFK', {'attr_dict': {'weight': 1.3734377415287182}}), ('BOS', 'LAS', {'attr_dict': {'weight': 5.761638668563794}}), ('BOS', 'LAX', {'attr_dict': {'weight': 6.222264115894412}}), ('BOS', 'LHR', {'attr_dict': {'weight': 7.529635331761399}}), ('BOS', 'MCO', {'attr_dict': {'weight': 3.242049228333191}}), ('BOS', 'MSP', {'attr_dict': {'weight': 3.2480998535151304}}), ('BOS', 'PLS', {'attr_dict': {'weight': 3.841404041765936}}), ('BOS', 'RDU', {'attr_dict': {'weight': 2.223840097364274}}), ('BOS', 'SLC', {'attr_dict': {'weight': 5.210784029932179}}), ('DTW', 'AMS', {'attr_dict': {'weight': 8.88067238005151}}), ('DTW', 'ATL', {'attr_dict': {'weight': 2.1887059293232527}}), ('DTW', 'AUS', {'attr_dict': {'weight': 3.2972609295957103}}), ('DTW', 'AZO', {'attr_dict': {'weight': 1.225603569594391}}), ('DTW', 'BDL', {'attr_dict': {'weight': 2.0972577770467957}}), ('DTW', 'BNA', {'attr_dict': {'weight': 1.9124809778172764}}), ('DTW', 'BOS', {'attr_dict': {'weight': 2.2647020796311184}}), ('DTW', 'BUF', {'attr_dict': {'weight': 1.4820169675223323}}), ('DTW', 'BWI', {'attr_dict': {'weight': 1.8174014056987446}}), ('DTW', 'CDG', {'attr_dict': {'weight': 8.924554916885503}}), ('DTW', 'CLT', {'attr_dict': {'weight': 1.9998859892425602}}), ('DTW', 'CMH', {'attr_dict': {'weight': 1.3093901724906696}}), ('DTW', 'CUN', {'attr_dict': {'weight': 3.9468044945807907}}), ('DTW', 'CVG', {'attr_dict': {'weight': 1.4579173118245692}}), ('DTW', 'DAY', {'attr_dict': {'weight': 1.3313913189798496}}), ('DTW', 'DCA', {'attr_dict': {'weight': 1.8103556876175926}}), ('DTW', 'DEN', {'attr_dict': {'weight': 3.245360929031718}}), ('DTW', 'DFW', {'attr_dict': {'weight': 2.9726289315204166}}), ('DTW', 'ERI', {'attr_dict': {'weight': 1.3270812669189336}}), ('DTW', 'EWR', {'attr_dict': {'weight': 1.9760095817731536}}), ('DTW', 'FLL', {'attr_dict': {'weight': 3.2545129033282487}}), ('DTW', 'FRA', {'attr_dict': {'weight': 9.323723525190239}}), ('DTW', 'GCM', {'attr_dict': {'weight': 4.166663513140611}}), ('DTW', 'GRB', {'attr_dict': {'weight': 1.5743574182263333}}), ('DTW', 'GRR', {'attr_dict': {'weight': 1.2398891818308015}}), ('DTW', 'GRU', {'attr_dict': {'weight': 11.188182824321425}}), ('DTW', 'IAD', {'attr_dict': {'weight': 1.766803801236083}}), ('DTW', 'IAH', {'attr_dict': {'weight': 3.150133309080052}}), ('DTW', 'ICN', {'attr_dict': {'weight': 14.271343892571894}}), ('DTW', 'IND', {'attr_dict': {'weight': 1.4617139119740923}}), ('DTW', 'JFK', {'attr_dict': {'weight': 2.0174295311199177}}), ('DTW', 'LAS', {'attr_dict': {'weight': 4.49738548397711}}), ('DTW', 'LAX', {'attr_dict': {'weight': 4.9575624106355525}}), ('DTW', 'LEX', {'attr_dict': {'weight': 1.5912907737418158}}), ('DTW', 'LGA', {'attr_dict': {'weight': 2.0030228251867435}}), ('DTW', 'LHR', {'attr_dict': {'weight': 8.532734200465791}}), ('DTW', 'MBJ', {'attr_dict': {'weight': 4.328709897954067}}), ('DTW', 'MCI', {'attr_dict': {'weight': 2.2570707985164606}}), ('DTW', 'MCO', {'attr_dict': {'weight': 2.9142228256737135}}), ('DTW', 'MEM', {'attr_dict': {'weight': 2.22063323705593}}), ('DTW', 'MEX', {'attr_dict': {'weight': 4.638687389310526}}), ('DTW', 'MIA', {'attr_dict': {'weight': 3.2901226414341034}}), ('DTW', 'MKE', {'attr_dict': {'weight': 1.474411933093291}}), ('DTW', 'MSN', {'attr_dict': {'weight': 1.622725372848032}}), ('DTW', 'MSP', {'attr_dict': {'weight': 2.0565550729555984}}), ('DTW', 'MSY', {'attr_dict': {'weight': 2.8520182257805127}}), ('DTW', 'MTY', {'attr_dict': {'weight': 3.960366815697674}}), ('DTW', 'NAS', {'attr_dict': {'weight': 3.4609955462393085}}), ('DTW', 'NGO', {'attr_dict': {'weight': 14.103971458957554}}), ('DTW', 'NRT', {'attr_dict': {'weight': 13.794881264457011}}), ('DTW', 'OMA', {'attr_dict': {'weight': 2.300972322986185}}), ('DTW', 'ORD', {'attr_dict': {'weight': 1.4689758704800542}}), ('DTW', 'ORF', {'attr_dict': {'weight': 2.058474570066664}}), ('DTW', 'PBI', {'attr_dict': {'weight': 3.172486386682682}}), ('DTW', 'PDX', {'attr_dict': {'weight': 4.906384583658172}}), ('DTW', 'PEK', {'attr_dict': {'weight': 14.262637062930631}}), ('DTW', 'PHL', {'attr_dict': {'weight': 1.9066627542249739}}), ('DTW', 'PHX', {'attr_dict': {'weight': 4.341586237282235}}), ('DTW', 'PIT', {'attr_dict': {'weight': 1.4021174597480017}}), ('DTW', 'PUJ', {'attr_dict': {'weight': 4.704110281820823}}), ('DTW', 'PVD', {'attr_dict': {'weight': 2.229952392100666}}), ('DTW', 'PVG', {'attr_dict': {'weight': 15.273094085420437}}), ('DTW', 'RDU', {'attr_dict': {'weight': 2.0021791381945917}}), ('DTW', 'RIC', {'attr_dict': {'weight': 1.9125178992478022}}), ('DTW', 'RSW', {'attr_dict': {'weight': 3.1687051880312103}}), ('DTW', 'SAN', {'attr_dict': {'weight': 4.912278694526033}}), ('DTW', 'SAT', {'attr_dict': {'weight': 3.4287064027974217}}), ('DTW', 'SDF', {'attr_dict': {'weight': 1.6115306133921785}}), ('DTW', 'SEA', {'attr_dict': {'weight': 4.854063350783199}}), ('DTW', 'SFO', {'attr_dict': {'weight': 5.1574484673599414}}), ('DTW', 'SJU', {'attr_dict': {'weight': 4.85925887833358}}), ('DTW', 'SLC', {'attr_dict': {'weight': 3.962723982442061}}), ('DTW', 'STL', {'attr_dict': {'weight': 1.8799578887470305}}), ('DTW', 'SYR', {'attr_dict': {'weight': 1.7484987440697535}}), ('DTW', 'TPA', {'attr_dict': {'weight': 2.965085598574535}}), ('DTW', 'TVC', {'attr_dict': {'weight': 1.4148683868259408}}), ('EWR', 'AMS', {'attr_dict': {'weight': 8.312743676991964}}), ('EWR', 'ATL', {'attr_dict': {'weight': 2.4912161885047905}}), ('EWR', 'CDG', {'attr_dict': {'weight': 8.297779365402711}}), ('EWR', 'DTW', {'attr_dict': {'weight': 1.9760095817731536}}), ('EWR', 'MSP', {'attr_dict': {'weight': 3.0164243057492075}}), ('EWR', 'SLC', {'attr_dict': {'weight': 4.93738577900507}}), ('PDX', 'AMS', {'attr_dict': {'weight': 11.007124347558705}}), ('PDX', 'ATL', {'attr_dict': {'weight': 5.344368939033024}}), ('PDX', 'DTW', {'attr_dict': {'weight': 4.906384583658172}}), ('PDX', 'JFK', {'attr_dict': {'weight': 5.907798098871326}}), ('PDX', 'MSP', {'attr_dict': {'weight': 3.852243259560292}}), ('PDX', 'NRT', {'attr_dict': {'weight': 10.644814875908}}), ('PDX', 'SLC', {'attr_dict': {'weight': 2.2594823090165264}}), ('SEA', 'AMS', {'attr_dict': {'weight': 10.772492851252682}}), ('SEA', 'ATL', {'attr_dict': {'weight': 5.363560548112177}}), ('SEA', 'CDG', {'attr_dict': {'weight': 11.032346120460991}}), ('SEA', 'DTW', {'attr_dict': {'weight': 4.854063350783199}}), ('SEA', 'HND', {'attr_dict': {'weight': 10.607007175948787}}), ('SEA', 'HNL', {'attr_dict': {'weight': 6.354338111889985}}), ('SEA', 'JFK', {'attr_dict': {'weight': 5.842678855082381}}), ('SEA', 'LAX', {'attr_dict': {'weight': 2.90780595870417}}), ('SEA', 'LHR', {'attr_dict': {'weight': 10.600439275806453}}), ('SEA', 'MSP', {'attr_dict': {'weight': 3.79757288563752}}), ('SEA', 'NRT', {'attr_dict': {'weight': 10.53767154889843}}), ('SEA', 'PEK', {'attr_dict': {'weight': 11.81421690357951}}), ('SEA', 'PVG', {'attr_dict': {'weight': 12.443463598813173}}), ('SEA', 'SLC', {'attr_dict': {'weight': 2.3770024739836795}}), ('ANC', 'MSP', {'attr_dict': {'weight': 6.036935747502621}}), ('ANC', 'SLC', {'attr_dict': {'weight': 5.249619977456418}}), ('SLC', 'ANC', {'attr_dict': {'weight': 5.249619977456418}}), ('SLC', 'ATL', {'attr_dict': {'weight': 4.1796079171406655}}), ('SLC', 'AUS', {'attr_dict': {'weight': 3.1710758397576275}}), ('SLC', 'BOI', {'attr_dict': {'weight': 1.5802169331077194}}), ('SLC', 'BOS', {'attr_dict': {'weight': 5.210784029932179}}), ('SLC', 'BWI', {'attr_dict': {'weight': 4.729409361216019}}), ('SLC', 'CDG', {'attr_dict': {'weight': 11.159601011272686}}), ('SLC', 'CLT', {'attr_dict': {'weight': 4.45438756444277}}), ('SLC', 'CUN', {'attr_dict': {'weight': 5.009480523611128}}), ('SLC', 'CVG', {'attr_dict': {'weight': 3.8998202262003634}}), ('SLC', 'DCA', {'attr_dict': {'weight': 4.702654857149944}}), ('SLC', 'DEN', {'attr_dict': {'weight': 1.7818208109027822}}), ('SLC', 'DFW', {'attr_dict': {'weight': 2.9773015946905828}}), ('SLC', 'DTW', {'attr_dict': {'weight': 3.962723982442061}}), ('SLC', 'EKO', {'attr_dict': {'weight': 1.3999491379960112}}), ('SLC', 'EWR', {'attr_dict': {'weight': 4.93738577900507}}), ('SLC', 'GEG', {'attr_dict': {'weight': 2.0922462314097294}}), ('SLC', 'HNL', {'attr_dict': {'weight': 6.9875472081435825}}), ('SLC', 'IAH', {'attr_dict': {'weight': 3.3901896956340516}}), ('SLC', 'IND', {'attr_dict': {'weight': 3.7098427175441793}}), ('SLC', 'JFK', {'attr_dict': {'weight': 4.978937566942124}}), ('SLC', 'LAS', {'attr_dict': {'weight': 1.7350317222207825}}), ('SLC', 'LAX', {'attr_dict': {'weight': 2.179316810495191}}), ('SLC', 'MCI', {'attr_dict': {'weight': 2.8394571885621165}}), ('SLC', 'MCO', {'attr_dict': {'weight': 4.861636547700746}}), ('SLC', 'MEM', {'attr_dict': {'weight': 3.523486524658957}}), ('SLC', 'MSP', {'attr_dict': {'weight': 2.982565414012389}}), ('SLC', 'MSY', {'attr_dict': {'weight': 3.856562214592873}}), ('SLC', 'OAK', {'attr_dict': {'weight': 2.176493302635863}}), ('SLC', 'ONT', {'attr_dict': {'weight': 2.1151397125082747}}), ('SLC', 'PDX', {'attr_dict': {'weight': 2.2594823090165264}}), ('SLC', 'PHL', {'attr_dict': {'weight': 4.8532643846405}}), ('SLC', 'PHX', {'attr_dict': {'weight': 2.014282441429242}}), ('SLC', 'RDU', {'attr_dict': {'weight': 4.646897506416796}}), ('SLC', 'RNO', {'attr_dict': {'weight': 1.8436131908452595}}), ('SLC', 'SAN', {'attr_dict': {'weight': 2.2517639357388366}}), ('SLC', 'SAT', {'attr_dict': {'weight': 3.1736603483519272}}), ('SLC', 'SEA', {'attr_dict': {'weight': 2.3770024739836795}}), ('SLC', 'SFO', {'attr_dict': {'weight': 2.1977034103058797}}), ('SLC', 'SJC', {'attr_dict': {'weight': 2.1689327894860018}}), ('SLC', 'SMF', {'attr_dict': {'weight': 2.063290617897111}}), ('SLC', 'SNA', {'attr_dict': {'weight': 2.175869556721688}}), ('SLC', 'STL', {'attr_dict': {'weight': 3.3120147066895167}}), ('AUA', 'ATL', {'attr_dict': {'weight': 4.4306116501263055}}), ('AUA', 'JFK', {'attr_dict': {'weight': 4.9018262410041835}}), ('AUA', 'LGA', {'attr_dict': {'weight': 4.921956994016833}}), ('AUS', 'ATL', {'attr_dict': {'weight': 2.625677531145884}}), ('AUS', 'DTW', {'attr_dict': {'weight': 3.2972609295957103}}), ('AUS', 'JFK', {'attr_dict': {'weight': 4.042853454574555}}), ('AUS', 'MSP', {'attr_dict': {'weight': 3.083056665943572}}), ('AUS', 'SLC', {'attr_dict': {'weight': 3.1710758397576275}}), ('AVL', 'ATL', {'attr_dict': {'weight': 1.3283931162006555}}), ('BDA', 'ATL', {'attr_dict': {'weight': 3.2968572532151583}}), ('BDA', 'BOS', {'attr_dict': {'weight': 2.5440135031309525}}), ('BDA', 'JFK', {'attr_dict': {'weight': 2.5243230997157378}}), ('BDL', 'ATL', {'attr_dict': {'weight': 2.7187419780462143}}), ('BDL', 'DTW', {'attr_dict': {'weight': 2.0972577770467957}}), ('BDL', 'MSP', {'attr_dict': {'weight': 3.100932535687188}}), ('BHM', 'ATL', {'attr_dict': {'weight': 1.2684131031035293}}), ('BNA', 'ATL', {'attr_dict': {'weight': 1.4277427571553836}}), ('BNA', 'DTW', {'attr_dict': {'weight': 1.9124809778172764}}), ('BNA', 'LAX', {'attr_dict': {'weight': 4.59482106602401}}), ('BOG', 'ATL', {'attr_dict': {'weight': 5.195487553240803}}), ('BOG', 'JFK', {'attr_dict': {'weight': 5.947179691356093}}), ('BON', 'ATL', {'attr_dict': {'weight': 4.5953178442768525}}), ('BRU', 'ATL', {'attr_dict': {'weight': 9.85151282787465}}), ('BRU', 'JFK', {'attr_dict': {'weight': 8.333927616359613}}), ('BSB', 'ATL', {'attr_dict': {'weight': 9.339170898187307}}), ('BTR', 'ATL', {'attr_dict': {'weight': 1.8967928020593279}}), ('BUF', 'ATL', {'attr_dict': {'weight': 2.4241386802454317}}), ('BUF', 'DTW', {'attr_dict': {'weight': 1.4820169675223323}}), ('BUF', 'LGA', {'attr_dict': {'weight': 1.5834872196575913}}), ('BWI', 'ATL', {'attr_dict': {'weight': 2.153125243808467}}), ('BWI', 'CVG', {'attr_dict': {'weight': 1.8597192010617736}}), ('BWI', 'DTW', {'attr_dict': {'weight': 1.8174014056987446}}), ('BWI', 'MSP', {'attr_dict': {'weight': 2.8722908656476127}}), ('BWI', 'RDU', {'attr_dict': {'weight': 1.5109305960525432}}), ('BWI', 'SLC', {'attr_dict': {'weight': 4.729409361216019}}), ('BZE', 'ATL', {'attr_dict': {'weight': 3.268045549174712}}), ('BZE', 'LAX', {'attr_dict': {'weight': 5.354325659409475}}), ('CAE', 'ATL', {'attr_dict': {'weight': 1.383057144413873}}), ('CAK', 'ATL', {'attr_dict': {'weight': 2.056368157114295}}), ('CCS', 'ATL', {'attr_dict': {'weight': 4.865350197571484}}), ('CDG', 'ATL', {'attr_dict': {'weight': 9.788836977953515}}), ('CDG', 'BOS', {'attr_dict': {'weight': 7.896709325964675}}), ('CDG', 'CVG', {'attr_dict': {'weight': 9.310434615775318}}), ('CDG', 'DTW', {'attr_dict': {'weight': 8.924554916885503}}), ('CDG', 'EWR', {'attr_dict': {'weight': 8.297779365402711}}), ('CDG', 'JFK', {'attr_dict': {'weight': 8.269197852373487}}), ('CDG', 'LAX', {'attr_dict': {'weight': 12.33889873102179}}), ('CDG', 'MSP', {'attr_dict': {'weight': 9.44346901493404}}), ('CDG', 'PHL', {'attr_dict': {'weight': 8.456435054849072}}), ('CDG', 'PIT', {'attr_dict': {'weight': 8.820114351887295}}), ('CDG', 'SEA', {'attr_dict': {'weight': 11.032346120460991}}), ('CDG', 'SLC', {'attr_dict': {'weight': 11.159601011272686}}), ('CHA', 'ATL', {'attr_dict': {'weight': 1.2122298347920082}}), ('CHS', 'ATL', {'attr_dict': {'weight': 1.518066117649309}}), ('CHS', 'DTW', {'attr_dict': {'weight': 2.334861882274315}}), ('CHS', 'JFK', {'attr_dict': {'weight': 2.2729081378496683}}), ('CHS', 'LGA', {'attr_dict': {'weight': 2.282952060166977}}), ('CLE', 'ATL', {'attr_dict': {'weight': 2.109018521438064}}), ('CLE', 'DTW', {'attr_dict': {'weight': 1.1905815374753346}}), ('CLE', 'JFK', {'attr_dict': {'weight': 1.8499326557514224}}), ('CLE', 'MSP', {'attr_dict': {'weight': 2.244064037602798}}), ('CLT', 'ATL', {'attr_dict': {'weight': 1.4535776310446809}}), ('CLT', 'DTW', {'attr_dict': {'weight': 1.9998859892425602}}), ('CLT', 'LGA', {'attr_dict': {'weight': 2.087643172981327}}), ('CLT', 'MSP', {'attr_dict': {'weight': 2.860118115619275}}), ('CLT', 'SLC', {'attr_dict': {'weight': 4.45438756444277}}), ('CMH', 'ATL', {'attr_dict': {'weight': 1.8936431261054718}}), ('CMH', 'BOS', {'attr_dict': {'weight': 2.28053393393834}}), ('CMH', 'LAX', {'attr_dict': {'weight': 4.990363108746328}}), ('CMH', 'LGA', {'attr_dict': {'weight': 1.9573391301318905}}), ('COS', 'ATL', {'attr_dict': {'weight': 3.3688402117432377}}), ('CRW', 'ATL', {'attr_dict': {'weight': 1.7261543984697014}}), ('CUN', 'ATL', {'attr_dict': {'weight': 2.7609299399820517}}), ('CUN', 'BOS', {'attr_dict': {'weight': 4.470018322940003}}), ('CUN', 'CVG', {'attr_dict': {'weight': 3.495367114892577}}), ('CUN', 'DTW', {'attr_dict': {'weight': 3.9468044945807907}}), ('CUN', 'IND', {'attr_dict': {'weight': 3.574670999232549}}), ('CUN', 'JFK', {'attr_dict': {'weight': 4.109414613352636}}), ('CUN', 'LAX', {'attr_dict': {'weight': 5.237382455273268}}), ('CUN', 'MCO', {'attr_dict': {'weight': 2.234743294500472}}), ('CUN', 'MSP', {'attr_dict': {'weight': 4.365673498884183}}), ('CUN', 'RDU', {'attr_dict': {'weight': 3.2665753532577284}}), ('CUN', 'SLC', {'attr_dict': {'weight': 5.009480523611128}}), ('CVG', 'ATL', {'attr_dict': {'weight': 1.7468159191287687}}), ('CVG', 'BOS', {'attr_dict': {'weight': 2.5040455759776776}}), ('CVG', 'CDG', {'attr_dict': {'weight': 9.310434615775318}}), ('CVG', 'CUN', {'attr_dict': {'weight': 3.495367114892577}}), ('CVG', 'FLL', {'attr_dict': {'weight': 2.8636607289837794}}), ('CVG', 'GRR', {'attr_dict': {'weight': 1.5363576282709528}}), ('CVG', 'LAS', {'attr_dict': {'weight': 4.356136196328245}}), ('CVG', 'LAX', {'attr_dict': {'weight': 4.799692325029588}}), ('CVG', 'LGA', {'attr_dict': {'weight': 2.1707809140425915}}), ('CVG', 'MCI', {'attr_dict': {'weight': 2.07885525265593}}), ('CVG', 'MCO', {'attr_dict': {'weight': 2.5137232707254613}}), ('CVG', 'PHL', {'attr_dict': {'weight': 2.014109163268275}}), ('CVG', 'PIT', {'attr_dict': {'weight': 1.5123811859272656}}), ('CVG', 'PUJ', {'attr_dict': {'weight': 4.432965905521742}}), ('CVG', 'RDU', {'attr_dict': {'weight': 1.7802891603379236}}), ('CVG', 'RIC', {'attr_dict': {'weight': 1.8266568989214576}}), ('CVG', 'RSW', {'attr_dict': {'weight': 2.7572485572422387}}), ('CVG', 'SFO', {'attr_dict': {'weight': 5.072438501018651}}), ('CVG', 'SLC', {'attr_dict': {'weight': 3.8998202262003634}}), ('CVG', 'TPA', {'attr_dict': {'weight': 2.545958557629411}}), ('CZM', 'ATL', {'attr_dict': {'weight': 2.8317571050056465}}), ('DAB', 'ATL', {'attr_dict': {'weight': 1.731819225025374}}), ('DAY', 'ATL', {'attr_dict': {'weight': 1.8644226449135495}}), ('DAY', 'DTW', {'attr_dict': {'weight': 1.3313913189798496}}), ('DAY', 'MSP', {'attr_dict': {'weight': 2.1482423806227935}}), ('DCA', 'ATL', {'attr_dict': {'weight': 2.094163453425681}}), ('DCA', 'DTW', {'attr_dict': {'weight': 1.8103556876175926}}), ('DCA', 'MSP', {'attr_dict': {'weight': 2.8611721687866445}}), ('DCA', 'SLC', {'attr_dict': {'weight': 4.702654857149944}}), ('DEN', 'ATL', {'attr_dict': {'weight': 3.398514838295257}}), ('DEN', 'DTW', {'attr_dict': {'weight': 3.245360929031718}}), ('DEN', 'JFK', {'attr_dict': {'weight': 4.251451720814476}}), ('DEN', 'LGA', {'attr_dict': {'weight': 4.239034717466568}}), ('DEN', 'MSP', {'attr_dict': {'weight': 2.3598017552010386}}), ('DEN', 'SLC', {'attr_dict': {'weight': 1.7818208109027822}}), ('DFW', 'ATL', {'attr_dict': {'weight': 2.4627160062032027}}), ('DFW', 'DTW', {'attr_dict': {'weight': 2.9726289315204166}}), ('DFW', 'LGA', {'attr_dict': {'weight': 3.777614769698495}}), ('DFW', 'MEX', {'attr_dict': {'weight': 2.870365461264643}}), ('DFW', 'MSP', {'attr_dict': {'weight': 2.7033868776542276}}), ('DFW', 'SLC', {'attr_dict': {'weight': 2.9773015946905828}}), ('DSM', 'ATL', {'attr_dict': {'weight': 2.4861764646342714}}), ('DUB', 'ATL', {'attr_dict': {'weight': 8.87537983475794}}), ('DUB', 'JFK', {'attr_dict': {'weight': 7.358579898838752}}), ('DUS', 'ATL', {'attr_dict': {'weight': 10.013955642036553}}), ('DXB', 'ATL', {'attr_dict': {'weight': 16.19846814389109}}), ('ECP', 'ATL', {'attr_dict': {'weight': 1.479601245952624}}), ('ELP', 'ATL', {'attr_dict': {'weight': 3.564753856161832}}), ('EYW', 'ATL', {'attr_dict': {'weight': 2.291621788146706}}), ('EYW', 'LGA', {'attr_dict': {'weight': 3.4145987999666128}}), ('EZE', 'ATL', {'attr_dict': {'weight': 10.99813157128409}}), ('FAY', 'ATL', {'attr_dict': {'weight': 1.6613840072152906}}), ('FCO', 'ATL', {'attr_dict': {'weight': 11.070935904624372}}), ('FCO', 'JFK', {'attr_dict': {'weight': 9.554106246174644}}), ('FLL', 'ATL', {'attr_dict': {'weight': 2.161291262343936}}), ('FLL', 'CVG', {'attr_dict': {'weight': 2.8636607289837794}}), ('FLL', 'DTW', {'attr_dict': {'weight': 3.2545129033282487}}), ('FLL', 'JFK', {'attr_dict': {'weight': 3.1373452074376793}}), ('FLL', 'LGA', {'attr_dict': {'weight': 3.151308781314793}}), ('FLL', 'MSP', {'attr_dict': {'weight': 3.974280638045777}}), ('FNT', 'ATL', {'attr_dict': {'weight': 2.2890099985908017}}), ('FPO', 'ATL', {'attr_dict': {'weight': 2.1920795210413253}}), ('FRA', 'ATL', {'attr_dict': {'weight': 10.229854502173179}}), ('FRA', 'DTW', {'attr_dict': {'weight': 9.323723525190239}}), ('FRA', 'JFK', {'attr_dict': {'weight': 8.712661880663479}}), ('GCM', 'ATL', {'attr_dict': {'weight': 3.0110608623600594}}), ('GCM', 'DTW', {'attr_dict': {'weight': 4.166663513140611}}), ('GDL', 'ATL', {'attr_dict': {'weight': 3.937078378844602}}), ('GDL', 'LAX', {'attr_dict': {'weight': 3.61466393180404}}), ('GDL', 'ORD', {'attr_dict': {'weight': 4.461180234429923}}), ('GIG', 'ATL', {'attr_dict': {'weight': 10.470397764843904}}), ('GNV', 'ATL', {'attr_dict': {'weight': 1.6002316401540457}}), ('GPT', 'ATL', {'attr_dict': {'weight': 1.7034464018151572}}), ('GRR', 'ATL', {'attr_dict': {'weight': 2.280706474467289}}), ('GRR', 'CVG', {'attr_dict': {'weight': 1.5363576282709528}}), ('GRR', 'DTW', {'attr_dict': {'weight': 1.2398891818308015}}), ('GRR', 'MSP', {'attr_dict': {'weight': 1.8166736730352655}}), ('GRU', 'ATL', {'attr_dict': {'weight': 10.305576416095617}}), ('GRU', 'DTW', {'attr_dict': {'weight': 11.188182824321425}}), ('GRU', 'JFK', {'attr_dict': {'weight': 10.489880636064377}}), ('GSO', 'ATL', {'attr_dict': {'weight': 1.6126864898286806}}), ('GSP', 'ATL', {'attr_dict': {'weight': 1.3066665674188598}}), ('GUA', 'ATL', {'attr_dict': {'weight': 3.7320263662183213}}), ('GUA', 'JFK', {'attr_dict': {'weight': 5.118188728681157}}), ('GUA', 'LAX', {'attr_dict': {'weight': 5.387178437908466}}), ('HNL', 'ATL', {'attr_dict': {'weight': 10.004477064470613}}), ('HNL', 'FUK', {'attr_dict': {'weight': 9.793301705779003}}), ('HNL', 'KIX', {'attr_dict': {'weight': 9.232555084520861}}), ('HNL', 'LAX', {'attr_dict': {'weight': 6.111623832139247}}), ('HNL', 'NGO', {'attr_dict': {'weight': 9.049667257024682}}), ('HNL', 'NRT', {'attr_dict': {'weight': 8.63738461048375}}), ('HNL', 'SEA', {'attr_dict': {'weight': 6.354338111889985}}), ('HNL', 'SFO', {'attr_dict': {'weight': 5.796957241080263}}), ('HNL', 'SLC', {'attr_dict': {'weight': 6.9875472081435825}}), ('HOU', 'ATL', {'attr_dict': {'weight': 2.391386812910701}}), ('HSV', 'ATL', {'attr_dict': {'weight': 1.3023076021636903}}), ('IAD', 'ATL', {'attr_dict': {'weight': 2.067806989344544}}), ('IAD', 'CDG', {'attr_dict': {'weight': 8.72200803707602}}), ('IAD', 'DTW', {'attr_dict': {'weight': 1.766803801236083}}), ('IAD', 'MEX', {'attr_dict': {'weight': 4.7282296938468935}}), ('IAD', 'SVO', {'attr_dict': {'weight': 10.733885200893319}}), ('IAH', 'ATL', {'attr_dict': {'weight': 2.3783440472763493}}), ('IAH', 'DTW', {'attr_dict': {'weight': 3.150133309080052}}), ('IAH', 'MEX', {'attr_dict': {'weight': 2.5256090708149843}}), ('IAH', 'SLC', {'attr_dict': {'weight': 3.3901896956340516}}), ('ICT', 'ATL', {'attr_dict': {'weight': 2.563138087694969}}), ('ILM', 'ATL', {'attr_dict': {'weight': 1.7545434405479865}}), ('IND', 'ATL', {'attr_dict': {'weight': 1.8637565967673204}}), ('IND', 'CUN', {'attr_dict': {'weight': 3.574670999232549}}), ('IND', 'DTW', {'attr_dict': {'weight': 1.4617139119740923}}), ('IND', 'LAX', {'attr_dict': {'weight': 4.627616688651406}}), ('IND', 'LGA', {'attr_dict': {'weight': 2.3204566543585026}}), ('IND', 'MBJ', {'attr_dict': {'weight': 4.089291744794574}}), ('IND', 'MSP', {'attr_dict': {'weight': 2.0053811235615173}}), ('IND', 'RSW', {'attr_dict': {'weight': 2.8907438276617445}}), ('IND', 'SLC', {'attr_dict': {'weight': 3.7098427175441793}}), ('JAN', 'ATL', {'attr_dict': {'weight': 1.6809689509608017}}), ('JAX', 'ATL', {'attr_dict': {'weight': 1.5393353870136774}}), ('JAX', 'LGA', {'attr_dict': {'weight': 2.666923438516599}}), ('JNB', 'ATL', {'attr_dict': {'weight': 17.878679863370763}}), ('KIN', 'ATL', {'attr_dict': {'weight': 3.3601319937840834}}), ('LAS', 'ATL', {'attr_dict': {'weight': 4.493255715958586}}), ('LAS', 'BOS', {'attr_dict': {'weight': 5.761638668563794}}), ('LAS', 'CVG', {'attr_dict': {'weight': 4.356136196328245}}), ('LAS', 'DTW', {'attr_dict': {'weight': 4.49738548397711}}), ('LAS', 'JFK', {'attr_dict': {'weight': 5.4958583519836255}}), ('LAS', 'LAX', {'attr_dict': {'weight': 1.4724535149919817}}), ('LAS', 'MCO', {'attr_dict': {'weight': 5.078471959186509}}), ('LAS', 'MEM', {'attr_dict': {'weight': 3.8321474685665846}}), ('LAS', 'MEX', {'attr_dict': {'weight': 4.013155630958822}}), ('LAS', 'MSP', {'attr_dict': {'weight': 3.5989091402907243}}), ('LAS', 'RDU', {'attr_dict': {'weight': 5.051623418549451}}), ('LAS', 'SLC', {'attr_dict': {'weight': 1.7350317222207825}}), ('LAX', 'ATL', {'attr_dict': {'weight': 4.892914748577203}}), ('LAX', 'BNA', {'attr_dict': {'weight': 4.59482106602401}}), ('LAX', 'BOS', {'attr_dict': {'weight': 6.222264115894412}}), ('LAX', 'BZE', {'attr_dict': {'weight': 5.354325659409475}}), ('LAX', 'CMH', {'attr_dict': {'weight': 4.990363108746328}}), ('LAX', 'CUN', {'attr_dict': {'weight': 5.237382455273268}}), ('LAX', 'CVG', {'attr_dict': {'weight': 4.799692325029588}}), ('LAX', 'DTW', {'attr_dict': {'weight': 4.9575624106355525}}), ('LAX', 'GDL', {'attr_dict': {'weight': 3.61466393180404}}), ('LAX', 'GUA', {'attr_dict': {'weight': 5.387178437908466}}), ('LAX', 'HMO', {'attr_dict': {'weight': 2.0952240445759704}}), ('LAX', 'HND', {'attr_dict': {'weight': 11.975161082642527}}), ('LAX', 'HNL', {'attr_dict': {'weight': 6.111623832139247}}), ('LAX', 'IND', {'attr_dict': {'weight': 4.627616688651406}}), ('LAX', 'JFK', {'attr_dict': {'weight': 5.949768687629222}}), ('LAX', 'KOA', {'attr_dict': {'weight': 6.007819078205732}}), ('LAX', 'LAS', {'attr_dict': {'weight': 1.4724535149919817}}), ('LAX', 'LIH', {'attr_dict': {'weight': 6.230246474146347}}), ('LAX', 'LIR', {'attr_dict': {'weight': 6.2536294144322175}}), ('LAX', 'MCO', {'attr_dict': {'weight': 5.435334872587877}}), ('LAX', 'MEM', {'attr_dict': {'weight': 4.237836756112351}}), ('LAX', 'MEX', {'attr_dict': {'weight': 4.105565710237814}}), ('LAX', 'MIA', {'attr_dict': {'weight': 5.683737641407157}}), ('LAX', 'MSP', {'attr_dict': {'weight': 4.0707964807133}}), ('LAX', 'MSY', {'attr_dict': {'weight': 4.340536520538532}}), ('LAX', 'NRT', {'attr_dict': {'weight': 11.902277203833208}}), ('LAX', 'OGG', {'attr_dict': {'weight': 5.970931178821128}}), ('LAX', 'PVR', {'attr_dict': {'weight': 3.4351798369935715}}), ('LAX', 'RDU', {'attr_dict': {'weight': 5.476914303072241}}), ('LAX', 'SEA', {'attr_dict': {'weight': 2.90780595870417}}), ('LAX', 'SJO', {'attr_dict': {'weight': 6.443078641318034}}), ('LAX', 'SLC', {'attr_dict': {'weight': 2.179316810495191}}), ('LAX', 'SVO', {'attr_dict': {'weight': 13.155372701291993}}), ('LAX', 'SYD', {'attr_dict': {'weight': 15.975931615160661}}), ('LAX', 'TPA', {'attr_dict': {'weight': 5.315745629722364}}), ('LEX', 'ATL', {'attr_dict': {'weight': 1.6070159103690318}}), ('LEX', 'LGA', {'attr_dict': {'weight': 2.2085138833614444}}), ('LGA', 'ATL', {'attr_dict': {'weight': 2.5230432992455825}}), ('LGA', 'AUA', {'attr_dict': {'weight': 4.921956994016833}}), ('LGA', 'BGR', {'attr_dict': {'weight': 1.7564171574293068}}), ('LGA', 'BTV', {'attr_dict': {'weight': 1.5152940385551994}}), ('LGA', 'BUF', {'attr_dict': {'weight': 1.5834872196575913}}), ('LGA', 'CHS', {'attr_dict': {'weight': 2.282952060166977}}), ('LGA', 'CLT', {'attr_dict': {'weight': 2.087643172981327}}), ('LGA', 'CVG', {'attr_dict': {'weight': 2.1707809140425915}}), ('LGA', 'DEN', {'attr_dict': {'weight': 4.239034717466568}}), ('LGA', 'DFW', {'attr_dict': {'weight': 3.777614769698495}}), ('LGA', 'DTW', {'attr_dict': {'weight': 2.0030228251867435}}), ('LGA', 'EYW', {'attr_dict': {'weight': 3.4145987999666128}}), ('LGA', 'FLL', {'attr_dict': {'weight': 3.151308781314793}}), ('LGA', 'GSO', {'attr_dict': {'weight': 1.92133197024988}}), ('LGA', 'IND', {'attr_dict': {'weight': 2.3204566543585026}}), ('LGA', 'JAX', {'attr_dict': {'weight': 2.666923438516599}}), ('LGA', 'MCO', {'attr_dict': {'weight': 2.899827343706666}}), ('LGA', 'MHT', {'attr_dict': {'weight': 1.3895199677384635}}), ('LGA', 'MIA', {'attr_dict': {'weight': 3.193202743890047}}), ('LGA', 'MKE', {'attr_dict': {'weight': 2.4758583268596697}}), ('LGA', 'MSN', {'attr_dict': {'weight': 2.6238623548825553}}), ('LGA', 'MSP', {'attr_dict': {'weight': 3.0405650007799894}}), ('LGA', 'MSY', {'attr_dict': {'weight': 3.366524697461577}}), ('LGA', 'PBI', {'attr_dict': {'weight': 3.069262900588791}}), ('LGA', 'PWM', {'attr_dict': {'weight': 1.5389261736763449}}), ('LGA', 'RDU', {'attr_dict': {'weight': 1.8611057917447869}}), ('LGA', 'RIC', {'attr_dict': {'weight': 1.5838010982516066}}), ('LGA', 'SAV', {'attr_dict': {'weight': 2.4442699258847167}}), ('LGA', 'SDF', {'attr_dict': {'weight': 2.317199423182367}}), ('LGA', 'SRQ', {'attr_dict': {'weight': 3.093596276335616}}), ('LGA', 'STL', {'attr_dict': {'weight': 2.7762006816089153}}), ('LGA', 'SYR', {'attr_dict': {'weight': 1.3959202762570375}}), ('LGA', 'TPA', {'attr_dict': {'weight': 3.0209192161030085}}), ('LHR', 'ATL', {'attr_dict': {'weight': 9.421234725982778}}), ('LHR', 'BOS', {'attr_dict': {'weight': 7.529635331761399}}), ('LHR', 'DTW', {'attr_dict': {'weight': 8.532734200465791}}), ('LHR', 'JFK', {'attr_dict': {'weight': 7.902862218401453}}), ('LHR', 'MSP', {'attr_dict': {'weight': 9.030293005407891}}), ('LHR', 'SEA', {'attr_dict': {'weight': 10.600439275806453}}), ('LIM', 'ATL', {'attr_dict': {'weight': 7.352982237849428}}), ('LIR', 'ATL', {'attr_dict': {'weight': 4.174498760957114}}), ('LIR', 'JFK', {'attr_dict': {'weight': 5.380326716326566}}), ('LIR', 'LAX', {'attr_dict': {'weight': 6.2536294144322175}}), ('LIT', 'ATL', {'attr_dict': {'weight': 1.905526833719699}}), ('LOS', 'ATL', {'attr_dict': {'weight': 12.686955163612232}}), ('MAD', 'ATL', {'attr_dict': {'weight': 9.671118112360995}}), ('MAD', 'JFK', {'attr_dict': {'weight': 8.179025084994269}}), ('MAN', 'ATL', {'attr_dict': {'weight': 9.197086868141206}}), ('MBJ', 'ATL', {'attr_dict': {'weight': 3.2340542819810167}}), ('MBJ', 'DTW', {'attr_dict': {'weight': 4.328709897954067}}), ('MBJ', 'IND', {'attr_dict': {'weight': 4.089291744794574}}), ('MBJ', 'JFK', {'attr_dict': {'weight': 4.0888733268683115}}), ('MCI', 'ATL', {'attr_dict': {'weight': 2.3849089489694992}}), ('MCI', 'CVG', {'attr_dict': {'weight': 2.07885525265593}}), ('MCI', 'DTW', {'attr_dict': {'weight': 2.2570707985164606}}), ('MCI', 'MEM', {'attr_dict': {'weight': 1.785750780354511}}), ('MCI', 'MSP', {'attr_dict': {'weight': 1.7859343844474729}}), ('MCI', 'SLC', {'attr_dict': {'weight': 2.8394571885621165}}), ('MCO', 'ATL', {'attr_dict': {'weight': 1.8071693264421735}}), ('MCO', 'BOS', {'attr_dict': {'weight': 3.242049228333191}}), ('MCO', 'CUN', {'attr_dict': {'weight': 2.234743294500472}}), ('MCO', 'CVG', {'attr_dict': {'weight': 2.5137232707254613}}), ('MCO', 'DTW', {'attr_dict': {'weight': 2.9142228256737135}}), ('MCO', 'JFK', {'attr_dict': {'weight': 2.8880035200553333}}), ('MCO', 'LAS', {'attr_dict': {'weight': 5.078471959186509}}), ('MCO', 'LAX', {'attr_dict': {'weight': 5.435334872587877}}), ('MCO', 'LGA', {'attr_dict': {'weight': 2.899827343706666}}), ('MCO', 'MEM', {'attr_dict': {'weight': 2.367228589178951}}), ('MCO', 'MEX', {'attr_dict': {'weight': 3.561159841794721}}), ('MCO', 'MKE', {'attr_dict': {'weight': 3.132785553619956}}), ('MCO', 'MSP', {'attr_dict': {'weight': 3.6203129300325556}}), ('MCO', 'SLC', {'attr_dict': {'weight': 4.861636547700746}}), ('MDT', 'ATL', {'attr_dict': {'weight': 2.2392246513693324}}), ('MDW', 'ATL', {'attr_dict': {'weight': 2.1813454024266887}}), ('MEM', 'ATL', {'attr_dict': {'weight': 1.663312087808594}}), ('MEM', 'LAS', {'attr_dict': {'weight': 3.8321474685665846}}), ('MEM', 'LAX', {'attr_dict': {'weight': 4.237836756112351}}), ('MEM', 'MCO', {'attr_dict': {'weight': 2.367228589178951}}), ('MEM', 'MSP', {'attr_dict': {'weight': 2.400449419035518}}), ('MEM', 'PIT', {'attr_dict': {'weight': 2.303771409801506}}), ('MEM', 'SLC', {'attr_dict': {'weight': 3.523486524658957}}), ('MEX', 'ACA', {'attr_dict': {'weight': 1.3792773618313345}}), ('MEX', 'ATL', {'attr_dict': {'weight': 3.660742930997341}}), ('MEX', 'DFW', {'attr_dict': {'weight': 2.870365461264643}}), ('MEX', 'DTW', {'attr_dict': {'weight': 4.638687389310526}}), ('MEX', 'IAD', {'attr_dict': {'weight': 4.7282296938468935}}), ('MEX', 'IAH', {'attr_dict': {'weight': 2.5256090708149843}}), ('MEX', 'JFK', {'attr_dict': {'weight': 5.180240822449911}}), ('MEX', 'LAS', {'attr_dict': {'weight': 4.013155630958822}}), ('MEX', 'LAX', {'attr_dict': {'weight': 4.105565710237814}}), ('MEX', 'MCO', {'attr_dict': {'weight': 3.561159841794721}}), ('MEX', 'MIA', {'attr_dict': {'weight': 3.550898127246605}}), ('MEX', 'MID', {'attr_dict': {'weight': 2.2399836327949}}), ('MEX', 'ORD', {'attr_dict': {'weight': 4.371311178312897}}), ('MEX', 'SAT', {'attr_dict': {'weight': 2.392019005387148}}), ('MEX', 'SFO', {'attr_dict': {'weight': 4.762038509856441}}), ('MEX', 'VSA', {'attr_dict': {'weight': 1.8433076835989786}}), ('MGA', 'ATL', {'attr_dict': {'weight': 3.966664716137545}}), ('MHT', 'ATL', {'attr_dict': {'weight': 2.9037161580765907}}), ('MHT', 'DTW', {'attr_dict': {'weight': 2.2190394264714732}}), ('MHT', 'LGA', {'attr_dict': {'weight': 1.3895199677384635}}), ('MIA', 'ATL', {'attr_dict': {'weight': 2.18920298310031}}), ('MIA', 'DTW', {'attr_dict': {'weight': 3.2901226414341034}}), ('MIA', 'JFK', {'attr_dict': {'weight': 3.179271283667947}}), ('MIA', 'LAX', {'attr_dict': {'weight': 5.683737641407157}}), ('MIA', 'LGA', {'attr_dict': {'weight': 3.193202743890047}}), ('MIA', 'MEX', {'attr_dict': {'weight': 3.550898127246605}}), ('MIA', 'MID', {'attr_dict': {'weight': 2.364377954194289}}), ('MIA', 'MSP', {'attr_dict': {'weight': 4.001493988287978}}), ('MIA', 'PAP', {'attr_dict': {'weight': 2.4260773352397873}}), ('MIA', 'SVO', {'attr_dict': {'weight': 12.455599311713732}}), ('MKE', 'ATL', {'attr_dict': {'weight': 2.3382322111469414}}), ('MKE', 'DTW', {'attr_dict': {'weight': 1.474411933093291}}), ('MKE', 'LGA', {'attr_dict': {'weight': 2.4758583268596697}}), ('MKE', 'MCO', {'attr_dict': {'weight': 3.132785553619956}}), ('MKE', 'MSP', {'attr_dict': {'weight': 1.5947475179953545}}), ('MLB', 'ATL', {'attr_dict': {'weight': 1.8849415742051208}}), ('MOB', 'ATL', {'attr_dict': {'weight': 1.6038229388478098}}), ('MSN', 'ATL', {'attr_dict': {'weight': 2.414500246884101}}), ('MSN', 'DTW', {'attr_dict': {'weight': 1.622725372848032}}), ('MSN', 'LGA', {'attr_dict': {'weight': 2.6238623548825553}}), ('MSN', 'MSP', {'attr_dict': {'weight': 1.4556767176115755}}), ('MSY', 'ATL', {'attr_dict': {'weight': 1.849802390290213}}), ('MSY', 'DTW', {'attr_dict': {'weight': 2.8520182257805127}}), ('MSY', 'LAX', {'attr_dict': {'weight': 4.340536520538532}}), ('MSY', 'LGA', {'attr_dict': {'weight': 3.366524697461577}}), ('MSY', 'SLC', {'attr_dict': {'weight': 3.856562214592873}}), ('MUC', 'ATL', {'attr_dict': {'weight': 10.594010039399349}}), ('MYR', 'ATL', {'attr_dict': {'weight': 1.6339055761611336}}), ('NAS', 'ATL', {'attr_dict': {'weight': 2.451164807945932}}), ('NAS', 'DTW', {'attr_dict': {'weight': 3.4609955462393085}}), ('NAS', 'JFK', {'attr_dict': {'weight': 3.191981896960435}}), ('NRT', 'ATL', {'attr_dict': {'weight': 14.70085790410859}}), ('NRT', 'BKK', {'attr_dict': {'weight': 6.778628609958861}}), ('NRT', 'DTW', {'attr_dict': {'weight': 13.794881264457011}}), ('NRT', 'GUM', {'attr_dict': {'weight': 4.116159361642661}}), ('NRT', 'HKG', {'attr_dict': {'weight': 4.6834293827980495}}), ('NRT', 'HNL', {'attr_dict': {'weight': 8.63738461048375}}), ('NRT', 'JFK', {'attr_dict': {'weight': 14.48926797963614}}), ('NRT', 'LAX', {'attr_dict': {'weight': 11.902277203833208}}), ('NRT', 'MNL', {'attr_dict': {'weight': 4.785563610829306}}), ('NRT', 'MSP', {'attr_dict': {'weight': 12.900018160736925}}), ('NRT', 'PDX', {'attr_dict': {'weight': 10.644814875908}}), ('NRT', 'PVG', {'attr_dict': {'weight': 3.2352962717119267}}), ('NRT', 'ROR', {'attr_dict': {'weight': 4.9775962652530374}}), ('NRT', 'SEA', {'attr_dict': {'weight': 10.53767154889843}}), ('NRT', 'SIN', {'attr_dict': {'weight': 7.648351489157703}}), ('NRT', 'SPN', {'attr_dict': {'weight': 3.918503488551211}}), ('NRT', 'TPE', {'attr_dict': {'weight': 3.71181146281534}}), ('OKC', 'ATL', {'attr_dict': {'weight': 2.521350144649947}}), ('OMA', 'ATL', {'attr_dict': {'weight': 2.6427075108721465}}), ('OMA', 'DTW', {'attr_dict': {'weight': 2.300972322986185}}), ('OMA', 'MSP', {'attr_dict': {'weight': 1.5631591945395122}}), ('ORD', 'ATL', {'attr_dict': {'weight': 2.211620565679926}}), ('ORD', 'CDG', {'attr_dict': {'weight': 9.304732445425552}}), ('ORD', 'CVG', {'attr_dict': {'weight': 1.5287792958703137}}), ('ORD', 'DTW', {'attr_dict': {'weight': 1.4689758704800542}}), ('ORD', 'FCO', {'attr_dict': {'weight': 10.645634833753949}}), ('ORD', 'GDL', {'attr_dict': {'weight': 4.461180234429923}}), ('ORD', 'MEX', {'attr_dict': {'weight': 4.371311178312897}}), ('ORD', 'MSP', {'attr_dict': {'weight': 1.668297936096378}}), ('ORF', 'ATL', {'attr_dict': {'weight': 2.0325411710424675}}), ('ORF', 'DTW', {'attr_dict': {'weight': 2.058474570066664}}), ('ORF', 'JFK', {'attr_dict': {'weight': 1.5790776323296045}}), ('PAP', 'ATL', {'attr_dict': {'weight': 3.559151285076329}}), ('PAP', 'JFK', {'attr_dict': {'weight': 4.044129116285761}}), ('PAP', 'MIA', {'attr_dict': {'weight': 2.4260773352397873}}), ('PBI', 'ATL', {'attr_dict': {'weight': 2.0890293029003892}}), ('PBI', 'DTW', {'attr_dict': {'weight': 3.172486386682682}}), ('PBI', 'LGA', {'attr_dict': {'weight': 3.069262900588791}}), ('PHL', 'ATL', {'attr_dict': {'weight': 2.332403087131488}}), ('PHL', 'CDG', {'attr_dict': {'weight': 8.456435054849072}}), ('PHL', 'CVG', {'attr_dict': {'weight': 2.014109163268275}}), ('PHL', 'DTW', {'attr_dict': {'weight': 1.9066627542249739}}), ('PHL', 'JFK', {'attr_dict': {'weight': 1.1874180334765732}}), ('PHL', 'MSP', {'attr_dict': {'weight': 2.960878212588433}}), ('PHL', 'SLC', {'attr_dict': {'weight': 4.8532643846405}}), ('PHX', 'ATL', {'attr_dict': {'weight': 4.174643008002262}}), ('PHX', 'DTW', {'attr_dict': {'weight': 4.341586237282235}}), ('PHX', 'HMO', {'attr_dict': {'weight': 1.6085607042169783}}), ('PHX', 'JFK', {'attr_dict': {'weight': 5.306601693899291}}), ('PHX', 'MSP', {'attr_dict': {'weight': 3.552044899050113}}), ('PHX', 'SLC', {'attr_dict': {'weight': 2.014282441429242}}), ('PIT', 'ATL', {'attr_dict': {'weight': 2.0526415707582193}}), ('PIT', 'CDG', {'attr_dict': {'weight': 8.820114351887295}}), ('PIT', 'CVG', {'attr_dict': {'weight': 1.5123811859272656}}), ('PIT', 'DTW', {'attr_dict': {'weight': 1.4021174597480017}}), ('PIT', 'JFK', {'attr_dict': {'weight': 1.679386117633419}}), ('PIT', 'LGA', {'attr_dict': {'weight': 1.6696983671834038}}), ('PIT', 'MEM', {'attr_dict': {'weight': 2.303771409801506}}), ('PIT', 'MSP', {'attr_dict': {'weight': 2.452898809337063}}), ('PIT', 'PUJ', {'attr_dict': {'weight': 4.333990947413653}}), ('PLS', 'ATL', {'attr_dict': {'weight': 3.2079454076247216}}), ('PLS', 'BOS', {'attr_dict': {'weight': 3.841404041765936}}), ('PLS', 'JFK', {'attr_dict': {'weight': 3.605670553944264}}), ('PNS', 'ATL', {'attr_dict': {'weight': 1.5429255911572841}}), ('PTY', 'ATL', {'attr_dict': {'weight': 4.441121332428273}}), ('PUJ', 'ATL', {'attr_dict': {'weight': 3.8720125871570374}}), ('PUJ', 'CVG', {'attr_dict': {'weight': 4.432965905521742}}), ('PUJ', 'DTW', {'attr_dict': {'weight': 4.704110281820823}}), ('PUJ', 'JFK', {'attr_dict': {'weight': 4.108140067002443}}), ('PUJ', 'PIT', {'attr_dict': {'weight': 4.333990947413653}}), ('PVD', 'ATL', {'attr_dict': {'weight': 2.8076033058754035}}), ('PVD', 'DTW', {'attr_dict': {'weight': 2.229952392100666}}), ('PVR', 'ATL', {'attr_dict': {'weight': 4.114189268272614}}), ('PVR', 'LAX', {'attr_dict': {'weight': 3.4351798369935715}}), ('RDU', 'ATL', {'attr_dict': {'weight': 1.7121189124931333}}), ('RDU', 'BWI', {'attr_dict': {'weight': 1.5109305960525432}}), ('RDU', 'CUN', {'attr_dict': {'weight': 3.2665753532577284}}), ('RDU', 'CVG', {'attr_dict': {'weight': 1.7802891603379236}}), ('RDU', 'DTW', {'attr_dict': {'weight': 2.0021791381945917}}), ('RDU', 'LAS', {'attr_dict': {'weight': 5.051623418549451}}), ('RDU', 'LAX', {'attr_dict': {'weight': 5.476914303072241}}), ('RDU', 'LGA', {'attr_dict': {'weight': 1.8611057917447869}}), ('RDU', 'MSP', {'attr_dict': {'weight': 2.9606255493130957}}), ('RDU', 'SLC', {'attr_dict': {'weight': 4.646897506416796}}), ('RIC', 'ATL', {'attr_dict': {'weight': 1.9617101693702725}}), ('RIC', 'CVG', {'attr_dict': {'weight': 1.8266568989214576}}), ('RIC', 'DTW', {'attr_dict': {'weight': 1.9125178992478022}}), ('RIC', 'JFK', {'attr_dict': {'weight': 1.5761117540249936}}), ('RIC', 'LGA', {'attr_dict': {'weight': 1.5838010982516066}}), ('ROA', 'ATL', {'attr_dict': {'weight': 1.7145683719294484}}), ('ROC', 'ATL', {'attr_dict': {'weight': 2.4984745585895047}}), ('ROC', 'JFK', {'attr_dict': {'weight': 1.5275406822687363}}), ('ROC', 'LGA', {'attr_dict': {'weight': 1.5076388622912908}}), ('RSW', 'ATL', {'attr_dict': {'weight': 2.029141686543859}}), ('RSW', 'CVG', {'attr_dict': {'weight': 2.7572485572422387}}), ('RSW', 'DTW', {'attr_dict': {'weight': 3.1687051880312103}}), ('RSW', 'IND', {'attr_dict': {'weight': 2.8907438276617445}}), ('RSW', 'MSP', {'attr_dict': {'weight': 3.83266143510134}}), ('RTB', 'ATL', {'attr_dict': {'weight': 3.398669271590515}}), ('SAL', 'ATL', {'attr_dict': {'weight': 3.8402133904750744}}), ('SAN', 'ATL', {'attr_dict': {'weight': 4.783061038758978}}), ('SAN', 'DTW', {'attr_dict': {'weight': 4.912278694526033}}), ('SAN', 'JFK', {'attr_dict': {'weight': 5.8917841185093724}}), ('SAN', 'MSP', {'attr_dict': {'weight': 4.064320656919663}}), ('SAN', 'SLC', {'attr_dict': {'weight': 2.2517639357388366}}), ('SAP', 'ATL', {'attr_dict': {'weight': 3.5411233542524623}}), ('SAT', 'ATL', {'attr_dict': {'weight': 2.748344810945305}}), ('SAT', 'DTW', {'attr_dict': {'weight': 3.4287064027974217}}), ('SAT', 'JFK', {'attr_dict': {'weight': 4.173779803018828}}), ('SAT', 'MEX', {'attr_dict': {'weight': 2.392019005387148}}), ('SAT', 'SLC', {'attr_dict': {'weight': 3.1736603483519272}}), ('SAV', 'ATL', {'attr_dict': {'weight': 1.4289222518612372}}), ('SAV', 'DTW', {'attr_dict': {'weight': 2.41089068714608}}), ('SAV', 'JFK', {'attr_dict': {'weight': 2.4350652267277004}}), ('SCL', 'ATL', {'attr_dict': {'weight': 10.38991563909906}}), ('SDF', 'ATL', {'attr_dict': {'weight': 1.6426603740772174}}), ('SDF', 'DTW', {'attr_dict': {'weight': 1.6115306133921785}}), ('SDF', 'LGA', {'attr_dict': {'weight': 2.317199423182367}}), ('SDQ', 'ATL', {'attr_dict': {'weight': 3.777876605362852}}), ('SDQ', 'JFK', {'attr_dict': {'weight': 4.09848503351461}}), ('SFO', 'ATL', {'attr_dict': {'weight': 5.277793180295842}}), ('SFO', 'CVG', {'attr_dict': {'weight': 5.072438501018651}}), ('SFO', 'DTW', {'attr_dict': {'weight': 5.1574484673599414}}), ('SFO', 'HNL', {'attr_dict': {'weight': 5.796957241080263}}), ('SFO', 'JFK', {'attr_dict': {'weight': 6.172129966599628}}), ('SFO', 'MEX', {'attr_dict': {'weight': 4.762038509856441}}), ('SFO', 'MSP', {'attr_dict': {'weight': 4.177682951015083}}), ('SFO', 'PVG', {'attr_dict': {'weight': 13.300556327753501}}), ('SFO', 'SLC', {'attr_dict': {'weight': 2.1977034103058797}}), ('SJC', 'ATL', {'attr_dict': {'weight': 5.231618861913142}}), ('SJC', 'MSP', {'attr_dict': {'weight': 4.150971622343862}}), ('SJC', 'SLC', {'attr_dict': {'weight': 2.1689327894860018}}), ('SJD', 'ATL', {'attr_dict': {'weight': 4.389576697037448}}), ('SJO', 'ATL', {'attr_dict': {'weight': 4.253853589297578}}), ('SJO', 'JFK', {'attr_dict': {'weight': 5.4089441679168955}}), ('SJO', 'LAX', {'attr_dict': {'weight': 6.443078641318034}}), ('SJU', 'ATL', {'attr_dict': {'weight': 4.093415267521066}}), ('SJU', 'DTW', {'attr_dict': {'weight': 4.85925887833358}}), ('SJU', 'JFK', {'attr_dict': {'weight': 4.195148328872678}}), ('SMF', 'ATL', {'attr_dict': {'weight': 5.184337163479159}}), ('SMF', 'MSP', {'attr_dict': {'weight': 4.034884236143711}}), ('SMF', 'SLC', {'attr_dict': {'weight': 2.063290617897111}}), ('SNA', 'ATL', {'attr_dict': {'weight': 4.8374651578404135}}), ('SNA', 'MSP', {'attr_dict': {'weight': 4.043733347776035}}), ('SNA', 'SLC', {'attr_dict': {'weight': 2.175869556721688}}), ('SRQ', 'ATL', {'attr_dict': {'weight': 1.8883938410831291}}), ('SRQ', 'LGA', {'attr_dict': {'weight': 3.093596276335616}}), ('STL', 'ATL', {'attr_dict': {'weight': 1.968065812754714}}), ('STL', 'CVG', {'attr_dict': {'weight': 1.6160311903318068}}), ('STL', 'DTW', {'attr_dict': {'weight': 1.8799578887470305}}), ('STL', 'LGA', {'attr_dict': {'weight': 2.7762006816089153}}), ('STL', 'MSP', {'attr_dict': {'weight': 1.8961775983603162}}), ('STL', 'SLC', {'attr_dict': {'weight': 3.3120147066895167}}), ('STR', 'ATL', {'attr_dict': {'weight': 10.363124910421153}}), ('STT', 'ATL', {'attr_dict': {'weight': 4.197965684749111}}), ('STT', 'JFK', {'attr_dict': {'weight': 4.2460874012555525}}), ('SXM', 'ATL', {'attr_dict': {'weight': 4.402307749454449}}), ('SXM', 'JFK', {'attr_dict': {'weight': 4.362534913585901}}), ('SYR', 'ATL', {'attr_dict': {'weight': 2.587146133332376}}), ('SYR', 'DTW', {'attr_dict': {'weight': 1.7484987440697535}}), ('SYR', 'JFK', {'attr_dict': {'weight': 1.4171164071960651}}), ('SYR', 'LGA', {'attr_dict': {'weight': 1.3959202762570375}}), ('TGU', 'ATL', {'attr_dict': {'weight': 3.7172946321936746}}), ('TLH', 'ATL', {'attr_dict': {'weight': 1.4466067415795947}}), ('TPA', 'ATL', {'attr_dict': {'weight': 1.8118407361847835}}), ('TPA', 'CVG', {'attr_dict': {'weight': 2.545958557629411}}), ('TPA', 'DTW', {'attr_dict': {'weight': 2.965085598574535}}), ('TPA', 'JFK', {'attr_dict': {'weight': 3.0100967161538694}}), ('TPA', 'LAX', {'attr_dict': {'weight': 5.315745629722364}}), ('TPA', 'LGA', {'attr_dict': {'weight': 3.0209192161030085}}), ('TPA', 'MSP', {'attr_dict': {'weight': 3.6126687974836567}}), ('TRI', 'ATL', {'attr_dict': {'weight': 1.453439233090875}}), ('TUL', 'ATL', {'attr_dict': {'weight': 2.3475389111758105}}), ('TUS', 'ATL', {'attr_dict': {'weight': 4.082152554175015}}), ('TUS', 'MSP', {'attr_dict': {'weight': 3.5952879452942117}}), ('TYS', 'ATL', {'attr_dict': {'weight': 1.3038026687487947}}), ('UIO', 'ATL', {'attr_dict': {'weight': 5.71151603745515}}), ('UVF', 'ATL', {'attr_dict': {'weight': 5.024776152269092}}), ('VPS', 'ATL', {'attr_dict': {'weight': 1.4993926176567434}}), ('XNA', 'ATL', {'attr_dict': {'weight': 2.178419304705001}}), ('ZRH', 'ATL', {'attr_dict': {'weight': 10.381596924722007}}), ('AZO', 'DTW', {'attr_dict': {'weight': 1.225603569594391}}), ('BCN', 'JFK', {'attr_dict': {'weight': 8.662641328454706}}), ('BGR', 'LGA', {'attr_dict': {'weight': 1.7564171574293068}}), ('BIL', 'MSP', {'attr_dict': {'weight': 2.495387530979145}}), ('BKK', 'NRT', {'attr_dict': {'weight': 6.778628609958861}}), ('BOI', 'MSP', {'attr_dict': {'weight': 3.283596906178188}}), ('BOI', 'SLC', {'attr_dict': {'weight': 1.5802169331077194}}), ('BTV', 'LGA', {'attr_dict': {'weight': 1.5152940385551994}}), ('BZN', 'MSP', {'attr_dict': {'weight': 2.747593350741777}}), ('CUL', 'HMO', {'attr_dict': {'weight': 1.7416392006622854}}), ('CUL', 'MTY', {'attr_dict': {'weight': 1.9326797713160109}}), ('HMO', 'CUL', {'attr_dict': {'weight': 1.7416392006622854}}), ('HMO', 'LAX', {'attr_dict': {'weight': 2.0952240445759704}}), ('HMO', 'MEX', {'attr_dict': {'weight': 3.01039563723313}}), ('HMO', 'PHX', {'attr_dict': {'weight': 1.6085607042169783}}), ('MTY', 'CUL', {'attr_dict': {'weight': 1.9326797713160109}}), ('MTY', 'CUU', {'attr_dict': {'weight': 1.825685129272938}}), ('MTY', 'DTW', {'attr_dict': {'weight': 3.960366815697674}}), ('MTY', 'LAS', {'attr_dict': {'weight': 3.2770800781784097}}), ('DAL', 'ATL', {'attr_dict': {'weight': 2.4421531441558075}}), ('DKR', 'JFK', {'attr_dict': {'weight': 8.611169301154806}}), ('ERI', 'DTW', {'attr_dict': {'weight': 1.3270812669189336}}), ('GRB', 'DTW', {'attr_dict': {'weight': 1.5743574182263333}}), ('ICN', 'DTW', {'attr_dict': {'weight': 14.271343892571894}}), ('ICN', 'JFK', {'attr_dict': {'weight': 14.811320526780179}}), ('NGO', 'DTW', {'attr_dict': {'weight': 14.103971458957554}}), ('NGO', 'GUM', {'attr_dict': {'weight': 4.107562197696616}}), ('NGO', 'HNL', {'attr_dict': {'weight': 9.049667257024682}}), ('NGO', 'MNL', {'attr_dict': {'weight': 4.423068118003535}}), ('PEK', 'DTW', {'attr_dict': {'weight': 14.262637062930631}}), ('PEK', 'SEA', {'attr_dict': {'weight': 11.81421690357951}}), ('PVG', 'DTW', {'attr_dict': {'weight': 15.273094085420437}}), ('PVG', 'JFK', {'attr_dict': {'weight': 15.784846839726747}}), ('PVG', 'NRT', {'attr_dict': {'weight': 3.2352962717119267}}), ('PVG', 'SEA', {'attr_dict': {'weight': 12.443463598813173}}), ('PVG', 'SFO', {'attr_dict': {'weight': 13.300556327753501}}), ('TVC', 'DTW', {'attr_dict': {'weight': 1.4148683868259408}}), ('EKO', 'SLC', {'attr_dict': {'weight': 1.3999491379960112}}), ('FAR', 'MSP', {'attr_dict': {'weight': 1.4464955735267768}}), ('FSD', 'MSP', {'attr_dict': {'weight': 1.3928560264891747}}), ('FUK', 'HNL', {'attr_dict': {'weight': 9.793301705779003}}), ('GEG', 'MSP', {'attr_dict': {'weight': 3.3503460371513785}}), ('GEG', 'SLC', {'attr_dict': {'weight': 2.0922462314097294}}), ('GND', 'JFK', {'attr_dict': {'weight': 5.2048856015509}}), ('GUM', 'KIX', {'attr_dict': {'weight': 4.121708195735181}}), ('GUM', 'NGO', {'attr_dict': {'weight': 4.107562197696616}}), ('GUM', 'NRT', {'attr_dict': {'weight': 4.116159361642661}}), ('KIX', 'GUM', {'attr_dict': {'weight': 4.121708195735181}}), ('KIX', 'HNL', {'attr_dict': {'weight': 9.232555084520861}}), ('HKG', 'NRT', {'attr_dict': {'weight': 4.6834293827980495}}), ('HND', 'LAX', {'attr_dict': {'weight': 11.975161082642527}}), ('HND', 'SEA', {'attr_dict': {'weight': 10.607007175948787}}), ('SVO', 'IAD', {'attr_dict': {'weight': 10.733885200893319}}), ('SVO', 'JFK', {'attr_dict': {'weight': 10.322660181391022}}), ('SVO', 'LAX', {'attr_dict': {'weight': 13.155372701291993}}), ('SVO', 'MIA', {'attr_dict': {'weight': 12.455599311713732}}), ('MXP', 'JFK', {'attr_dict': {'weight': 8.990471206337135}}), ('NCE', 'JFK', {'attr_dict': {'weight': 8.982801048439184}}), ('STI', 'JFK', {'attr_dict': {'weight': 3.9494329630827987}}), ('TLV', 'JFK', {'attr_dict': {'weight': 12.354857800341838}}), ('VCE', 'JFK', {'attr_dict': {'weight': 9.30879577898487}}), ('YUL', 'DTW', {'attr_dict': {'weight': 2.059881682512188}}), ('YUL', 'JFK', {'attr_dict': {'weight': 1.6669563334920625}}), ('YUL', 'LGA', {'attr_dict': {'weight': 1.648120497012982}}), ('YYZ', 'ATL', {'attr_dict': {'weight': 2.478471426240721}}), ('YYZ', 'JFK', {'attr_dict': {'weight': 1.7325093397466858}}), ('KOA', 'LAX', {'attr_dict': {'weight': 6.007819078205732}}), ('LIH', 'LAX', {'attr_dict': {'weight': 6.230246474146347}}), ('OGG', 'LAX', {'attr_dict': {'weight': 5.970931178821128}}), ('SYD', 'LAX', {'attr_dict': {'weight': 15.975931615160661}}), ('MID', 'MEX', {'attr_dict': {'weight': 2.2399836327949}}), ('MID', 'MIA', {'attr_dict': {'weight': 2.364377954194289}}), ('MNL', 'NGO', {'attr_dict': {'weight': 4.423068118003535}}), ('MNL', 'NRT', {'attr_dict': {'weight': 4.785563610829306}}), ('MSO', 'MSP', {'attr_dict': {'weight': 3.0260272355956546}}), ('PSP', 'MSP', {'attr_dict': {'weight': 3.90740505056027}}), ('YYC', 'MSP', {'attr_dict': {'weight': 3.102931557901583}}), ('ROR', 'NRT', {'attr_dict': {'weight': 4.9775962652530374}}), ('SIN', 'NRT', {'attr_dict': {'weight': 7.648351489157703}}), ('SPN', 'NGO', {'attr_dict': {'weight': 3.935580770816251}}), ('SPN', 'NRT', {'attr_dict': {'weight': 3.918503488551211}}), ('TPE', 'NRT', {'attr_dict': {'weight': 3.71181146281534}}), ('OAK', 'SLC', {'attr_dict': {'weight': 2.176493302635863}}), ('ONT', 'SLC', {'attr_dict': {'weight': 2.1151397125082747}}), ('RNO', 'SLC', {'attr_dict': {'weight': 1.8436131908452595}})]\n"
     ]
    },
    {
     "data": {
      "image/png": "[encoded data removed]",
      "text/plain": [
       "<Figure size 432x288 with 1 Axes>"
      ]
     },
     "metadata": {},
     "output_type": "display_data"
    }
   ],
   "source": [
    "#5 Convert the network into a weighted network, using the travel time as the weight. Assume that planes fly at 500 mph, plus 30 minutes to take off + 30 minutes to land.\n",
    "from geopy.distance import geodesic\n",
    "wdg = nx.DiGraph()\n",
    "\n",
    "# print(dg.number_of_nodes())\n",
    "# print(wdg.number_of_nodes())\n",
    "\n",
    "for index, row in df.iterrows():\n",
    "    src = (row['latitude_source'], row['longitude_source'])\n",
    "    dest = (row['latitude_dest'], row['longitude_dest'])\n",
    "    dist = ((geodesic(src, dest).miles) / 500.0) + 1\n",
    "    wdg.add_edge(row['source'], row['dest'], attr_dict = { 'weight': dist})\n",
    "    \n",
    "nx.draw(wdg, node_color=GREEN, node_size = 1000, with_labels=True)\n",
    "\n",
    "print(list(wdg.edges(data = True)))\n",
    "# df['travel_time'] = travel_time\n",
    "# print(\"src: {}, dest: {}, distance: {}\".format(row['source'], row['dest'], dist))\n",
    "# print(\"{}, {}\".format(row['latitude_source'], row['longitude_source']))\n",
    "# print(\"{}, {}\".format(row['latitude_dest'], row['longitude_dest']))    \n",
    "# dist = geodesic(src, dest).kilometers\n",
    "# test = df[(df['source'] == 'ATL') & (df['dest'] == 'ABQ')]\n",
    "\n"
   ]
  },
  {
   "cell_type": "code",
   "execution_count": 76,
   "metadata": {},
   "outputs": [
    {
     "data": {
      "text/html": [
       "<div>\n",
       "<style scoped>\n",
       "    .dataframe tbody tr th:only-of-type {\n",
       "        vertical-align: middle;\n",
       "    }\n",
       "\n",
       "    .dataframe tbody tr th {\n",
       "        vertical-align: top;\n",
       "    }\n",
       "\n",
       "    .dataframe thead th {\n",
       "        text-align: right;\n",
       "    }\n",
       "</style>\n",
       "<table border=\"1\" class=\"dataframe\">\n",
       "  <thead>\n",
       "    <tr style=\"text-align: right;\">\n",
       "      <th></th>\n",
       "      <th>Unnamed: 0</th>\n",
       "      <th>airline</th>\n",
       "      <th>airline_id</th>\n",
       "      <th>source</th>\n",
       "      <th>source_id</th>\n",
       "      <th>dest</th>\n",
       "      <th>dest_id</th>\n",
       "      <th>codeshare</th>\n",
       "      <th>stops</th>\n",
       "      <th>equipment</th>\n",
       "      <th>latitude_source</th>\n",
       "      <th>longitude_source</th>\n",
       "      <th>latitude_dest</th>\n",
       "      <th>longitude_dest</th>\n",
       "      <th>travel_time</th>\n",
       "    </tr>\n",
       "  </thead>\n",
       "  <tbody>\n",
       "    <tr>\n",
       "      <td>0</td>\n",
       "      <td>0</td>\n",
       "      <td>DL</td>\n",
       "      <td>2009.0</td>\n",
       "      <td>ABE</td>\n",
       "      <td>4355.0</td>\n",
       "      <td>ATL</td>\n",
       "      <td>3682.0</td>\n",
       "      <td>NaN</td>\n",
       "      <td>0</td>\n",
       "      <td>717</td>\n",
       "      <td>40.652100</td>\n",
       "      <td>-75.440804</td>\n",
       "      <td>33.636700</td>\n",
       "      <td>-84.428101</td>\n",
       "      <td>2.384454</td>\n",
       "    </tr>\n",
       "    <tr>\n",
       "      <td>1</td>\n",
       "      <td>1</td>\n",
       "      <td>DL</td>\n",
       "      <td>2009.0</td>\n",
       "      <td>ABQ</td>\n",
       "      <td>4019.0</td>\n",
       "      <td>ATL</td>\n",
       "      <td>3682.0</td>\n",
       "      <td>NaN</td>\n",
       "      <td>0</td>\n",
       "      <td>757 320</td>\n",
       "      <td>35.040199</td>\n",
       "      <td>-106.609001</td>\n",
       "      <td>33.636700</td>\n",
       "      <td>-84.428101</td>\n",
       "      <td>3.538598</td>\n",
       "    </tr>\n",
       "    <tr>\n",
       "      <td>2</td>\n",
       "      <td>2</td>\n",
       "      <td>DL</td>\n",
       "      <td>2009.0</td>\n",
       "      <td>ABQ</td>\n",
       "      <td>4019.0</td>\n",
       "      <td>MSP</td>\n",
       "      <td>3858.0</td>\n",
       "      <td>NaN</td>\n",
       "      <td>0</td>\n",
       "      <td>320</td>\n",
       "      <td>35.040199</td>\n",
       "      <td>-106.609001</td>\n",
       "      <td>44.882000</td>\n",
       "      <td>-93.221802</td>\n",
       "      <td>2.961026</td>\n",
       "    </tr>\n",
       "    <tr>\n",
       "      <td>3</td>\n",
       "      <td>3</td>\n",
       "      <td>DL</td>\n",
       "      <td>2009.0</td>\n",
       "      <td>ACC</td>\n",
       "      <td>248.0</td>\n",
       "      <td>JFK</td>\n",
       "      <td>3797.0</td>\n",
       "      <td>NaN</td>\n",
       "      <td>0</td>\n",
       "      <td>76W</td>\n",
       "      <td>5.605190</td>\n",
       "      <td>-0.166786</td>\n",
       "      <td>40.639801</td>\n",
       "      <td>-73.778900</td>\n",
       "      <td>11.221570</td>\n",
       "    </tr>\n",
       "    <tr>\n",
       "      <td>4</td>\n",
       "      <td>4</td>\n",
       "      <td>DL</td>\n",
       "      <td>2009.0</td>\n",
       "      <td>ACC</td>\n",
       "      <td>248.0</td>\n",
       "      <td>ROB</td>\n",
       "      <td>1063.0</td>\n",
       "      <td>NaN</td>\n",
       "      <td>0</td>\n",
       "      <td>76W</td>\n",
       "      <td>5.605190</td>\n",
       "      <td>-0.166786</td>\n",
       "      <td>6.233790</td>\n",
       "      <td>-10.362300</td>\n",
       "      <td>2.405621</td>\n",
       "    </tr>\n",
       "    <tr>\n",
       "      <td>...</td>\n",
       "      <td>...</td>\n",
       "      <td>...</td>\n",
       "      <td>...</td>\n",
       "      <td>...</td>\n",
       "      <td>...</td>\n",
       "      <td>...</td>\n",
       "      <td>...</td>\n",
       "      <td>...</td>\n",
       "      <td>...</td>\n",
       "      <td>...</td>\n",
       "      <td>...</td>\n",
       "      <td>...</td>\n",
       "      <td>...</td>\n",
       "      <td>...</td>\n",
       "      <td>...</td>\n",
       "    </tr>\n",
       "    <tr>\n",
       "      <td>1141</td>\n",
       "      <td>1141</td>\n",
       "      <td>DL</td>\n",
       "      <td>2009.0</td>\n",
       "      <td>YUL</td>\n",
       "      <td>146.0</td>\n",
       "      <td>LGA</td>\n",
       "      <td>3697.0</td>\n",
       "      <td>NaN</td>\n",
       "      <td>0</td>\n",
       "      <td>ERJ CR7</td>\n",
       "      <td>45.470600</td>\n",
       "      <td>-73.740799</td>\n",
       "      <td>40.777199</td>\n",
       "      <td>-73.872597</td>\n",
       "      <td>1.648120</td>\n",
       "    </tr>\n",
       "    <tr>\n",
       "      <td>1142</td>\n",
       "      <td>1142</td>\n",
       "      <td>DL</td>\n",
       "      <td>2009.0</td>\n",
       "      <td>YYC</td>\n",
       "      <td>178.0</td>\n",
       "      <td>MSP</td>\n",
       "      <td>3858.0</td>\n",
       "      <td>NaN</td>\n",
       "      <td>0</td>\n",
       "      <td>319</td>\n",
       "      <td>51.113899</td>\n",
       "      <td>-114.019997</td>\n",
       "      <td>44.882000</td>\n",
       "      <td>-93.221802</td>\n",
       "      <td>3.102932</td>\n",
       "    </tr>\n",
       "    <tr>\n",
       "      <td>1143</td>\n",
       "      <td>1143</td>\n",
       "      <td>DL</td>\n",
       "      <td>2009.0</td>\n",
       "      <td>YYZ</td>\n",
       "      <td>193.0</td>\n",
       "      <td>ATL</td>\n",
       "      <td>3682.0</td>\n",
       "      <td>NaN</td>\n",
       "      <td>0</td>\n",
       "      <td>NaN</td>\n",
       "      <td>43.677200</td>\n",
       "      <td>-79.630600</td>\n",
       "      <td>33.636700</td>\n",
       "      <td>-84.428101</td>\n",
       "      <td>2.478471</td>\n",
       "    </tr>\n",
       "    <tr>\n",
       "      <td>1144</td>\n",
       "      <td>1144</td>\n",
       "      <td>DL</td>\n",
       "      <td>2009.0</td>\n",
       "      <td>YYZ</td>\n",
       "      <td>193.0</td>\n",
       "      <td>JFK</td>\n",
       "      <td>3797.0</td>\n",
       "      <td>NaN</td>\n",
       "      <td>0</td>\n",
       "      <td>CR7 ERJ</td>\n",
       "      <td>43.677200</td>\n",
       "      <td>-79.630600</td>\n",
       "      <td>40.639801</td>\n",
       "      <td>-73.778900</td>\n",
       "      <td>1.732509</td>\n",
       "    </tr>\n",
       "    <tr>\n",
       "      <td>1145</td>\n",
       "      <td>1145</td>\n",
       "      <td>DL</td>\n",
       "      <td>2009.0</td>\n",
       "      <td>ZRH</td>\n",
       "      <td>1678.0</td>\n",
       "      <td>ATL</td>\n",
       "      <td>3682.0</td>\n",
       "      <td>NaN</td>\n",
       "      <td>0</td>\n",
       "      <td>76W</td>\n",
       "      <td>47.464699</td>\n",
       "      <td>8.549170</td>\n",
       "      <td>33.636700</td>\n",
       "      <td>-84.428101</td>\n",
       "      <td>10.381597</td>\n",
       "    </tr>\n",
       "  </tbody>\n",
       "</table>\n",
       "<p>1146 rows × 15 columns</p>\n",
       "</div>"
      ],
      "text/plain": [
       "      Unnamed: 0 airline  airline_id source  source_id dest  dest_id  \\\n",
       "0              0      DL      2009.0    ABE     4355.0  ATL   3682.0   \n",
       "1              1      DL      2009.0    ABQ     4019.0  ATL   3682.0   \n",
       "2              2      DL      2009.0    ABQ     4019.0  MSP   3858.0   \n",
       "3              3      DL      2009.0    ACC      248.0  JFK   3797.0   \n",
       "4              4      DL      2009.0    ACC      248.0  ROB   1063.0   \n",
       "...          ...     ...         ...    ...        ...  ...      ...   \n",
       "1141        1141      DL      2009.0    YUL      146.0  LGA   3697.0   \n",
       "1142        1142      DL      2009.0    YYC      178.0  MSP   3858.0   \n",
       "1143        1143      DL      2009.0    YYZ      193.0  ATL   3682.0   \n",
       "1144        1144      DL      2009.0    YYZ      193.0  JFK   3797.0   \n",
       "1145        1145      DL      2009.0    ZRH     1678.0  ATL   3682.0   \n",
       "\n",
       "      codeshare  stops equipment  latitude_source  longitude_source  \\\n",
       "0           NaN      0       717        40.652100        -75.440804   \n",
       "1           NaN      0   757 320        35.040199       -106.609001   \n",
       "2           NaN      0       320        35.040199       -106.609001   \n",
       "3           NaN      0       76W         5.605190         -0.166786   \n",
       "4           NaN      0       76W         5.605190         -0.166786   \n",
       "...         ...    ...       ...              ...               ...   \n",
       "1141        NaN      0   ERJ CR7        45.470600        -73.740799   \n",
       "1142        NaN      0       319        51.113899       -114.019997   \n",
       "1143        NaN      0       NaN        43.677200        -79.630600   \n",
       "1144        NaN      0   CR7 ERJ        43.677200        -79.630600   \n",
       "1145        NaN      0       76W        47.464699          8.549170   \n",
       "\n",
       "      latitude_dest  longitude_dest  travel_time  \n",
       "0         33.636700      -84.428101     2.384454  \n",
       "1         33.636700      -84.428101     3.538598  \n",
       "2         44.882000      -93.221802     2.961026  \n",
       "3         40.639801      -73.778900    11.221570  \n",
       "4          6.233790      -10.362300     2.405621  \n",
       "...             ...             ...          ...  \n",
       "1141      40.777199      -73.872597     1.648120  \n",
       "1142      44.882000      -93.221802     3.102932  \n",
       "1143      33.636700      -84.428101     2.478471  \n",
       "1144      40.639801      -73.778900     1.732509  \n",
       "1145      33.636700      -84.428101    10.381597  \n",
       "\n",
       "[1146 rows x 15 columns]"
      ]
     },
     "execution_count": 76,
     "metadata": {},
     "output_type": "execute_result"
    }
   ],
   "source": [
    "#6 How long does it take to travel to Honolulu, in flight times.\n",
    "df"
   ]
  },
  {
   "cell_type": "code",
   "execution_count": null,
   "metadata": {},
   "outputs": [],
   "source": []
  }
 ],
 "metadata": {
  "anaconda-cloud": {},
  "kernelspec": {
   "display_name": "Python 3",
   "language": "python",
   "name": "python3"
  },
  "language_info": {
   "codemirror_mode": {
    "name": "ipython",
    "version": 3
   },
   "file_extension": ".py",
   "mimetype": "text/x-python",
   "name": "python",
   "nbconvert_exporter": "python",
   "pygments_lexer": "ipython3",
   "version": "3.7.4"
  }
 },
 "nbformat": 4,
 "nbformat_minor": 1
}
